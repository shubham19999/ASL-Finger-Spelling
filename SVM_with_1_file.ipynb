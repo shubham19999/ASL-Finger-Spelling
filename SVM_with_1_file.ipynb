{
 "cells": [
  {
   "cell_type": "code",
   "execution_count": 24,
   "metadata": {},
   "outputs": [],
   "source": [
    "import numpy as np\n",
    "import pandas as pd\n",
    "import matplotlib.pyplot as plt\n",
    "from sklearn.model_selection import train_test_split\n",
    "from sklearn.preprocessing import StandardScaler\n",
    "from sklearn.svm import SVC"
   ]
  },
  {
   "cell_type": "code",
   "execution_count": 25,
   "metadata": {
    "scrolled": false
   },
   "outputs": [
    {
     "data": {
      "text/html": [
       "<div>\n",
       "<style scoped>\n",
       "    .dataframe tbody tr th:only-of-type {\n",
       "        vertical-align: middle;\n",
       "    }\n",
       "\n",
       "    .dataframe tbody tr th {\n",
       "        vertical-align: top;\n",
       "    }\n",
       "\n",
       "    .dataframe thead th {\n",
       "        text-align: right;\n",
       "    }\n",
       "</style>\n",
       "<table border=\"1\" class=\"dataframe\">\n",
       "  <thead>\n",
       "    <tr style=\"text-align: right;\">\n",
       "      <th></th>\n",
       "      <th>label</th>\n",
       "      <th>pixel1</th>\n",
       "      <th>pixel2</th>\n",
       "      <th>pixel3</th>\n",
       "      <th>pixel4</th>\n",
       "      <th>pixel5</th>\n",
       "      <th>pixel6</th>\n",
       "      <th>pixel7</th>\n",
       "      <th>pixel8</th>\n",
       "      <th>pixel9</th>\n",
       "      <th>...</th>\n",
       "      <th>pixel775</th>\n",
       "      <th>pixel776</th>\n",
       "      <th>pixel777</th>\n",
       "      <th>pixel778</th>\n",
       "      <th>pixel779</th>\n",
       "      <th>pixel780</th>\n",
       "      <th>pixel781</th>\n",
       "      <th>pixel782</th>\n",
       "      <th>pixel783</th>\n",
       "      <th>pixel784</th>\n",
       "    </tr>\n",
       "  </thead>\n",
       "  <tbody>\n",
       "    <tr>\n",
       "      <th>0</th>\n",
       "      <td>6</td>\n",
       "      <td>149</td>\n",
       "      <td>149</td>\n",
       "      <td>150</td>\n",
       "      <td>150</td>\n",
       "      <td>150</td>\n",
       "      <td>151</td>\n",
       "      <td>151</td>\n",
       "      <td>150</td>\n",
       "      <td>151</td>\n",
       "      <td>...</td>\n",
       "      <td>138</td>\n",
       "      <td>148</td>\n",
       "      <td>127</td>\n",
       "      <td>89</td>\n",
       "      <td>82</td>\n",
       "      <td>96</td>\n",
       "      <td>106</td>\n",
       "      <td>112</td>\n",
       "      <td>120</td>\n",
       "      <td>107</td>\n",
       "    </tr>\n",
       "    <tr>\n",
       "      <th>1</th>\n",
       "      <td>5</td>\n",
       "      <td>126</td>\n",
       "      <td>128</td>\n",
       "      <td>131</td>\n",
       "      <td>132</td>\n",
       "      <td>133</td>\n",
       "      <td>134</td>\n",
       "      <td>135</td>\n",
       "      <td>135</td>\n",
       "      <td>136</td>\n",
       "      <td>...</td>\n",
       "      <td>47</td>\n",
       "      <td>104</td>\n",
       "      <td>194</td>\n",
       "      <td>183</td>\n",
       "      <td>186</td>\n",
       "      <td>184</td>\n",
       "      <td>184</td>\n",
       "      <td>184</td>\n",
       "      <td>182</td>\n",
       "      <td>180</td>\n",
       "    </tr>\n",
       "    <tr>\n",
       "      <th>2</th>\n",
       "      <td>10</td>\n",
       "      <td>85</td>\n",
       "      <td>88</td>\n",
       "      <td>92</td>\n",
       "      <td>96</td>\n",
       "      <td>105</td>\n",
       "      <td>123</td>\n",
       "      <td>135</td>\n",
       "      <td>143</td>\n",
       "      <td>147</td>\n",
       "      <td>...</td>\n",
       "      <td>68</td>\n",
       "      <td>166</td>\n",
       "      <td>242</td>\n",
       "      <td>227</td>\n",
       "      <td>230</td>\n",
       "      <td>227</td>\n",
       "      <td>226</td>\n",
       "      <td>225</td>\n",
       "      <td>224</td>\n",
       "      <td>222</td>\n",
       "    </tr>\n",
       "    <tr>\n",
       "      <th>3</th>\n",
       "      <td>0</td>\n",
       "      <td>203</td>\n",
       "      <td>205</td>\n",
       "      <td>207</td>\n",
       "      <td>206</td>\n",
       "      <td>207</td>\n",
       "      <td>209</td>\n",
       "      <td>210</td>\n",
       "      <td>209</td>\n",
       "      <td>210</td>\n",
       "      <td>...</td>\n",
       "      <td>154</td>\n",
       "      <td>248</td>\n",
       "      <td>247</td>\n",
       "      <td>248</td>\n",
       "      <td>253</td>\n",
       "      <td>236</td>\n",
       "      <td>230</td>\n",
       "      <td>240</td>\n",
       "      <td>253</td>\n",
       "      <td>255</td>\n",
       "    </tr>\n",
       "    <tr>\n",
       "      <th>4</th>\n",
       "      <td>3</td>\n",
       "      <td>188</td>\n",
       "      <td>191</td>\n",
       "      <td>193</td>\n",
       "      <td>195</td>\n",
       "      <td>199</td>\n",
       "      <td>201</td>\n",
       "      <td>202</td>\n",
       "      <td>203</td>\n",
       "      <td>203</td>\n",
       "      <td>...</td>\n",
       "      <td>26</td>\n",
       "      <td>40</td>\n",
       "      <td>64</td>\n",
       "      <td>48</td>\n",
       "      <td>29</td>\n",
       "      <td>46</td>\n",
       "      <td>49</td>\n",
       "      <td>46</td>\n",
       "      <td>46</td>\n",
       "      <td>53</td>\n",
       "    </tr>\n",
       "  </tbody>\n",
       "</table>\n",
       "<p>5 rows × 785 columns</p>\n",
       "</div>"
      ],
      "text/plain": [
       "   label  pixel1  pixel2  pixel3  pixel4  pixel5  pixel6  pixel7  pixel8  \\\n",
       "0      6     149     149     150     150     150     151     151     150   \n",
       "1      5     126     128     131     132     133     134     135     135   \n",
       "2     10      85      88      92      96     105     123     135     143   \n",
       "3      0     203     205     207     206     207     209     210     209   \n",
       "4      3     188     191     193     195     199     201     202     203   \n",
       "\n",
       "   pixel9    ...     pixel775  pixel776  pixel777  pixel778  pixel779  \\\n",
       "0     151    ...          138       148       127        89        82   \n",
       "1     136    ...           47       104       194       183       186   \n",
       "2     147    ...           68       166       242       227       230   \n",
       "3     210    ...          154       248       247       248       253   \n",
       "4     203    ...           26        40        64        48        29   \n",
       "\n",
       "   pixel780  pixel781  pixel782  pixel783  pixel784  \n",
       "0        96       106       112       120       107  \n",
       "1       184       184       184       182       180  \n",
       "2       227       226       225       224       222  \n",
       "3       236       230       240       253       255  \n",
       "4        46        49        46        46        53  \n",
       "\n",
       "[5 rows x 785 columns]"
      ]
     },
     "execution_count": 25,
     "metadata": {},
     "output_type": "execute_result"
    }
   ],
   "source": [
    "data=pd.read_csv(\"sign_mnist_test.csv\")\n",
    "data.head()"
   ]
  },
  {
   "cell_type": "code",
   "execution_count": 26,
   "metadata": {},
   "outputs": [],
   "source": [
    "real_x=data.iloc[:,1:785].values\n",
    "real_y=data.iloc[:,0].values"
   ]
  },
  {
   "cell_type": "code",
   "execution_count": 47,
   "metadata": {},
   "outputs": [
    {
     "data": {
      "text/plain": [
       "array([[141, 143, 149, ...,  98, 135, 208],\n",
       "       [203, 206, 208, ..., 233, 233, 230],\n",
       "       [129, 129, 129, ..., 146, 146, 145],\n",
       "       ...,\n",
       "       [151, 154, 155, ..., 175, 173, 172],\n",
       "       [164, 164, 165, ..., 211, 210, 209],\n",
       "       [181, 182, 182, ..., 207, 205, 205]], dtype=int64)"
      ]
     },
     "execution_count": 47,
     "metadata": {},
     "output_type": "execute_result"
    }
   ],
   "source": [
    "training_x,testing_x,training_y,testing_y=train_test_split(real_x,real_y,test_size=0.20,random_state=0)\n",
    "testing_x"
   ]
  },
  {
   "cell_type": "code",
   "execution_count": 48,
   "metadata": {},
   "outputs": [
    {
     "name": "stderr",
     "output_type": "stream",
     "text": [
      "c:\\users\\dell\\appdata\\local\\programs\\python\\python36\\lib\\site-packages\\sklearn\\utils\\validation.py:475: DataConversionWarning: Data with input dtype int64 was converted to float64 by StandardScaler.\n",
      "  warnings.warn(msg, DataConversionWarning)\n",
      "c:\\users\\dell\\appdata\\local\\programs\\python\\python36\\lib\\site-packages\\sklearn\\utils\\validation.py:475: DataConversionWarning: Data with input dtype uint8 was converted to float64 by StandardScaler.\n",
      "  warnings.warn(msg, DataConversionWarning)\n"
     ]
    },
    {
     "data": {
      "text/plain": [
       "array([[ 1.67139468,  1.74005152,  1.63401278,  1.54264003,  1.59568677,\n",
       "         1.62361374,  1.65615625,  1.60842609,  1.74745586,  1.73384442,\n",
       "         1.80514007,  1.84377414,  1.80301474,  1.81445533,  1.64996748,\n",
       "         1.72598605,  1.81548171,  1.88391402,  1.88668133,  1.83518606,\n",
       "         1.98927741,  1.94807911,  1.96561665,  1.92056789,  1.85571086,\n",
       "         1.68260635,  1.66008781,  1.64676522,  1.64707443,  1.63884618,\n",
       "         1.58073912,  1.56617438,  1.54879295,  1.61875089,  1.54205192,\n",
       "         1.54973232,  1.67439527,  1.73912297,  1.74100978,  1.6897055 ,\n",
       "         1.72899971,  1.70818531,  1.60435123,  1.71244694,  1.71589884,\n",
       "         1.82629702,  1.81190436,  1.77753855,  1.89898105,  1.86125166,\n",
       "         1.78506853,  1.82975109,  1.78938636,  1.66460298,  1.63612957,\n",
       "         1.6272231 ,  1.57909497,  1.58876129,  1.42977106,  1.48644354,\n",
       "         1.49277334,  1.50116663,  1.47532391,  1.51621675,  1.58752819,\n",
       "         1.62795249,  1.72028812,  1.58676388,  1.68012585,  1.59864429,\n",
       "         1.42594615,  1.55569386,  1.55765322,  1.63603598,  1.67307004,\n",
       "         1.66029341,  1.83606737,  1.73061679,  1.75994686,  1.78732963,\n",
       "         1.6900039 ,  1.62924856,  1.54292313,  1.5506927 ,  1.58161198,\n",
       "         1.51699424,  1.45396741,  1.38227255,  1.41476862,  1.36759966,\n",
       "         1.41220247,  1.43506451,  1.5691999 ,  1.55986393,  1.58357819,\n",
       "         1.55264805,  1.56636445,  1.42089899,  1.30660318,  1.43424639,\n",
       "         1.44767917,  1.55575701,  1.50362766,  1.59805354,  1.66062432,\n",
       "         1.63512097,  1.75512917,  1.70652729,  1.65831144,  1.58550263,\n",
       "         1.50782095,  1.48053949,  1.49276293,  1.44563568,  1.35470432,\n",
       "         1.33318625,  1.34008572,  1.41105048,  1.36010379,  1.39988112,\n",
       "         1.49033944,  1.41627444,  1.36077224,  1.41670671,  1.37260065,\n",
       "         1.31308271,  1.29056353,  1.36578422,  1.21613817,  1.38424604,\n",
       "         1.34145923,  1.32086613,  1.60106306,  1.0766784 ,  1.29352467,\n",
       "         1.45585181,  1.62473406,  1.39088834,  1.42131398,  1.45474076,\n",
       "         1.42636264,  1.38058441,  1.25926949,  1.24196106,  1.25878163,\n",
       "         1.2791531 ,  1.34822393,  1.36338824,  1.46513676,  1.34236268,\n",
       "         1.33193049,  1.32217615,  1.32913707,  0.80990044,  0.8515742 ,\n",
       "         0.67172737,  0.44965942,  0.64490011,  0.34206107,  0.07789375,\n",
       "         0.34000726,  0.10920121,  0.18868586,  0.25879635,  1.5433105 ,\n",
       "         1.60202972,  1.37616235,  1.34775036,  1.3608749 ,  1.29129108,\n",
       "         1.24001416,  1.1961676 ,  1.20035902,  1.20768336,  1.26597966,\n",
       "         1.29465456,  1.29917694,  1.29754665,  1.28576179,  1.28432975,\n",
       "         0.58324827,  0.14888231,  0.26459032,  0.12896521,  0.0451145 ,\n",
       "        -0.06596365,  0.20237941,  0.10160778, -0.05488645, -0.00932832,\n",
       "         0.17635192, -0.09805133,  1.61216105,  1.43247566,  1.40684023,\n",
       "         1.29974387,  1.29986608,  1.22840549,  1.22121096,  1.17043587,\n",
       "         1.16520654,  1.13178076,  1.23710311,  1.22710455,  1.32641045,\n",
       "         1.24312596,  1.13762414,  0.84555211,  0.1711263 , -0.24934724,\n",
       "         0.09577521, -0.03957585, -0.11611989, -0.32551826,  0.01960882,\n",
       "        -0.03081238, -0.46460198, -0.51282974, -0.14488774, -0.1558975 ,\n",
       "         0.27855303,  1.36592157,  1.41756271,  1.23490909,  1.26181006,\n",
       "         1.16248901,  1.17692937,  1.10228657,  1.0898363 ,  1.10544973,\n",
       "         1.10463608,  1.22420547,  1.22262721,  1.22647264,  1.27025112,\n",
       "         0.64464803,  0.82675623, -0.2171821 , -0.53940763, -0.57387931,\n",
       "        -0.46613563, -0.81946374, -0.41782411, -0.73427449, -0.95093654,\n",
       "        -0.64864352,  0.05855258, -0.22696653, -0.34091411,  1.31139573,\n",
       "         1.38251667,  1.32111118,  1.185633  ,  1.14897294,  1.09408046,\n",
       "         1.06859316,  1.06700604,  1.07944199,  1.05662478,  1.14527082,\n",
       "         1.19590158,  1.20547158,  1.05273843,  0.72009141,  0.92246277,\n",
       "         0.62893174, -0.28825973, -0.78552705, -0.84838932, -0.79270959,\n",
       "        -0.26073986,  0.12010082, -0.06818651,  0.46125184,  0.41537407,\n",
       "        -0.40075694,  1.156512  ,  1.29133413,  1.27453607,  1.34059634,\n",
       "         1.1709315 ,  1.13701055,  1.06505139,  1.05068481,  1.03636947,\n",
       "         0.96016205,  1.09503819,  1.09925167,  1.16938266,  1.19407917,\n",
       "         0.69737879,  0.75588234,  1.02509484,  1.04722595,  0.82774435,\n",
       "         0.65755103,  0.69230557,  1.04602119,  1.11743224,  1.0850538 ,\n",
       "         0.73545795,  0.5278184 , -0.05430386,  0.18533913,  1.24298997,\n",
       "         1.2585317 ,  1.25223616,  1.26064061,  1.12500926,  1.0693725 ,\n",
       "         1.01739453,  1.02054354,  0.99972219,  0.96899699,  1.03279582,\n",
       "         1.04741868,  1.14718014,  1.16573589,  0.34278352,  0.7189983 ,\n",
       "         0.98782916,  1.24629359,  1.33196156,  1.24120203,  1.00661262,\n",
       "         0.91057706,  0.78040116,  0.58688743,  0.35618065, -0.2284137 ,\n",
       "        -0.26170544,  1.37702494,  1.26328504,  1.26124299,  1.24721303,\n",
       "         1.24643418,  1.09416458,  0.96806227,  0.91184992,  1.06712551,\n",
       "         0.9078768 ,  0.91241997,  0.99513693,  1.02407686,  1.11436998,\n",
       "         1.13409775,  0.44691338,  0.44104783,  0.59687747,  0.73251643,\n",
       "         1.04427737,  0.61696642,  0.37080011,  0.20051489,  0.06542148,\n",
       "        -0.08649317, -0.33752134,  0.07744307,  1.04183346,  1.21935727,\n",
       "         1.18832467,  1.18538765,  1.19390008,  1.13527044,  0.97647071,\n",
       "         0.93465938,  0.90441424,  0.91289895,  0.92771136,  0.87299248,\n",
       "         0.88133155,  0.9743707 ,  1.06176738,  1.07084391,  0.86336839,\n",
       "         0.08856467,  0.16228339,  0.28081676,  0.40637085,  0.04231588,\n",
       "        -0.27285344, -0.37945107, -0.51376564, -0.07253072,  0.59279483,\n",
       "         0.82122398,  1.0406916 ,  1.22719278,  1.20407031,  1.1571708 ,\n",
       "         1.0942782 ,  1.0699195 ,  0.90080863,  0.91136685,  0.85603186,\n",
       "         0.88023005,  0.84557353,  0.80464093,  0.81204995,  0.91277595,\n",
       "         1.01468061,  1.07732732,  1.12939813,  0.18766679,  0.33695165,\n",
       "         0.39156115,  0.26651613,  0.00538007, -0.31950527, -0.56890572,\n",
       "        -0.0097835 ,  0.80980232,  0.85069172,  0.83454364,  1.00655843,\n",
       "         1.15496625,  1.13050367,  1.0526251 ,  1.09199236,  1.05453311,\n",
       "         0.83963985,  0.8430377 ,  0.8330851 ,  0.87430036,  0.81160606,\n",
       "         0.77623921,  0.76829315,  0.89137817,  0.94295313,  1.02971888,\n",
       "         1.09619353,  0.45451674,  0.46529592,  0.56654524,  0.34345186,\n",
       "         0.07373288, -0.21939994, -0.4047896 ,  0.75864927,  0.88075029,\n",
       "         0.93351351,  0.95622122,  1.13118084,  1.1161967 ,  1.07190768,\n",
       "         1.02352584,  0.95688981,  1.04372836,  0.8952164 ,  0.81349398,\n",
       "         0.8346673 ,  0.77252263,  0.80961074,  0.7535738 ,  0.76728897,\n",
       "         0.84842564,  0.89288331,  1.05761926,  1.06734397,  0.62315099,\n",
       "         0.60361613,  0.49558491,  0.3129871 ,  0.07081824, -0.07325051,\n",
       "        -0.29207743,  0.78875544,  0.93926473,  1.14503845,  1.17855605,\n",
       "         1.20124896,  1.10893532,  0.99779692,  0.94320505,  0.94933799,\n",
       "         0.95612741,  0.82271676,  0.80021472,  0.77889298,  0.76121314,\n",
       "         0.6968111 ,  0.6513697 ,  0.72000977,  0.81554904,  0.83368311,\n",
       "         0.89528706,  0.75338695,  0.75318682,  0.62450561,  0.36628177,\n",
       "         0.30176339,  0.20587935, -0.04433778, -0.12966529,  0.93043799,\n",
       "         1.18934967,  1.39081883,  1.28832574,  1.18587191,  1.02405671,\n",
       "         0.98868315,  0.91732372,  0.91240562,  0.93594384,  0.82182592,\n",
       "         0.75376693,  0.77904241,  0.73577138,  0.69115698,  0.6080899 ,\n",
       "         0.6615616 ,  0.73655905,  0.78612719,  0.90092732,  0.4733601 ,\n",
       "         0.65545463,  0.64595209,  0.4829993 ,  0.414235  ,  0.31626074,\n",
       "         0.06450021, -0.16247775,  1.11755866,  1.32042681,  1.42598747,\n",
       "         1.30058224,  1.07812112,  0.99728323,  0.93537506,  0.87274932,\n",
       "         0.87365909,  0.8831889 ,  0.75227253,  0.73295615,  0.76543584,\n",
       "         0.73551226,  0.69772687,  0.66247544,  0.71604203,  0.7377298 ,\n",
       "         0.73897521,  0.84061834,  0.13468439,  0.60085531,  0.65289545,\n",
       "         0.57313068,  0.50050978,  0.34536043,  0.22950965, -0.12716606,\n",
       "         1.13034896,  1.34770765,  1.40855439,  1.25531465,  1.03383178,\n",
       "         0.92132093,  0.85252855,  0.78987789,  0.84831196,  0.88005751,\n",
       "         0.78479325,  0.78939092,  0.75549804,  0.77222135,  0.74482647,\n",
       "         0.66911475,  0.74729725,  0.72360516,  0.6984479 ,  0.76946275,\n",
       "        -0.00989336,  0.45209092,  0.53571065,  0.58285506,  0.5075221 ,\n",
       "         0.32811529,  0.21153048, -0.01548081,  1.07297174,  1.44282178,\n",
       "         1.31960668,  1.11202699,  0.98481185,  0.85958921,  0.80107725,\n",
       "         0.79804161,  0.78690158,  0.87904489,  0.8309147 ,  0.78445407,\n",
       "         0.79435559,  0.75894197,  0.7375406 ,  0.70553576,  0.72508504,\n",
       "         0.75320882,  0.77087535,  0.7301745 ,  0.04152685,  0.37765967,\n",
       "         0.50945324,  0.5689068 ,  0.54670073,  0.44920067,  0.24316022,\n",
       "        -0.01074137,  0.75140922,  1.34428521,  1.21251177,  0.98162472,\n",
       "         0.95393387,  0.85380954,  0.79310733,  0.80354158,  0.73916494,\n",
       "         0.83035163,  0.82455146,  0.8159555 ,  0.81471618,  0.82282652,\n",
       "         0.73375387,  0.80722792,  0.80336155,  0.74748186,  0.70754068,\n",
       "         0.6876185 , -0.01281537,  0.26774398,  0.48574219,  0.61158666,\n",
       "         0.54497522,  0.49503331,  0.3158132 ,  0.15843916,  0.41756634,\n",
       "         1.2842542 ,  1.10178802,  0.95607005,  0.92025591,  0.76275277,\n",
       "         0.78679605,  0.7466899 ,  0.77003742,  0.74833777,  0.83385738,\n",
       "         0.83565483,  0.82773757,  0.85768127,  0.78915947,  0.82158836,\n",
       "         0.7979811 ,  0.77858379,  0.72860415,  0.53962352, -0.02977901,\n",
       "         0.21828742,  0.44266439,  0.62280655,  0.62626236,  0.53731178,\n",
       "         0.47443106,  0.18297478, -0.02600948,  1.14220653,  0.97424698,\n",
       "         0.94981395,  0.85974205,  0.81702121,  0.73844911,  0.81592012,\n",
       "         0.72855762,  0.75560763,  0.90053937,  0.91093077,  0.87505799,\n",
       "         0.88085714,  0.83927191,  0.80860259,  0.79182142,  0.82427601,\n",
       "         0.75457765,  0.47747411,  0.06619713,  0.29971182,  0.42362162,\n",
       "         0.63020919,  0.63913865,  0.62357166,  0.56190445,  0.20229977,\n",
       "        -0.13911928,  1.02810653,  0.97280505,  0.90598277,  0.85861853,\n",
       "         0.79719082,  0.7486216 ,  0.75476509,  0.78844788,  0.74891178,\n",
       "         0.90725897,  0.90470063,  0.89795535,  0.89327052,  0.85508954,\n",
       "         0.84381352,  0.77490856,  0.81973744,  0.72462714,  0.21608969,\n",
       "         0.07575241,  0.25104884,  0.48788604,  0.65103888,  0.72624615,\n",
       "         0.71468768,  0.53873309,  0.29729556, -0.00339167,  1.09293942,\n",
       "         0.89447774,  0.83272766,  0.76784081,  0.75744896,  0.75166975,\n",
       "         0.76843585,  0.78852593,  0.77349184,  0.99820222,  1.01303925,\n",
       "         0.9553002 ,  0.94290344,  0.9328554 ,  0.90863949,  0.86839278,\n",
       "         0.87010899,  0.81566702,  0.1322573 ,  0.04061875,  0.2505058 ,\n",
       "         0.49562036,  0.70219712,  0.76157602,  0.68978957,  0.6353945 ,\n",
       "         0.31491198,  0.02084685,  0.95255307,  0.85274091,  0.85992247,\n",
       "         0.76688322,  0.79141357,  0.77927786,  0.81504184,  0.83917345,\n",
       "         0.79331043,  1.05021831,  1.0618194 ,  1.0518469 ,  1.02249262,\n",
       "         1.00285979,  0.95793227,  0.92687193,  0.90039496,  0.81770334,\n",
       "         0.05786122,  0.13118191,  0.33340281,  0.54739398,  0.68377004,\n",
       "         0.72338374,  0.74336236,  0.62207743,  0.40800117,  0.08472819,\n",
       "         0.0175052 ,  0.87446988,  0.89844141,  0.8653053 ,  0.83330994,\n",
       "         0.84150018,  0.85672679,  0.84311655,  0.85931774]])"
      ]
     },
     "execution_count": 48,
     "metadata": {},
     "output_type": "execute_result"
    }
   ],
   "source": [
    "s_c=StandardScaler()\n",
    "training_x=s_c.fit_transform(training_x)\n",
    "testing_x=s_c.transform(testing_x)\n",
    "test_x=s_c.transform(i)\n",
    "test_x\n"
   ]
  },
  {
   "cell_type": "code",
   "execution_count": 38,
   "metadata": {},
   "outputs": [
    {
     "data": {
      "text/plain": [
       "SVC(C=1.0, cache_size=200, class_weight=None, coef0=0.0,\n",
       "  decision_function_shape='ovr', degree=3, gamma='auto', kernel='rbf',\n",
       "  max_iter=-1, probability=False, random_state=0, shrinking=True,\n",
       "  tol=0.001, verbose=False)"
      ]
     },
     "execution_count": 38,
     "metadata": {},
     "output_type": "execute_result"
    }
   ],
   "source": [
    "cls_svc = SVC(kernel='rbf',random_state=0)\n",
    "cls_svc.fit(training_x,training_y)"
   ]
  },
  {
   "cell_type": "code",
   "execution_count": 39,
   "metadata": {},
   "outputs": [
    {
     "data": {
      "text/plain": [
       "array([13,  6, 19, ..., 19,  2, 12], dtype=int64)"
      ]
     },
     "execution_count": 39,
     "metadata": {},
     "output_type": "execute_result"
    }
   ],
   "source": [
    "y_pred=cls_svc.predict(testing_x)\n",
    "y_pred"
   ]
  },
  {
   "cell_type": "code",
   "execution_count": 40,
   "metadata": {},
   "outputs": [
    {
     "data": {
      "text/plain": [
       "array([13,  6, 19, ..., 19,  2, 12], dtype=int64)"
      ]
     },
     "execution_count": 40,
     "metadata": {},
     "output_type": "execute_result"
    }
   ],
   "source": [
    "testing_y"
   ]
  },
  {
   "cell_type": "code",
   "execution_count": 34,
   "metadata": {},
   "outputs": [
    {
     "data": {
      "text/plain": [
       "array([[65,  0,  0,  0,  0,  0,  0,  0,  0,  0,  0,  0,  0,  0,  0,  0,\n",
       "         0,  0,  0,  0,  0,  0,  0,  0],\n",
       "       [ 0, 75,  0,  0,  0,  0,  0,  0,  0,  0,  0,  0,  0,  0,  0,  0,\n",
       "         0,  0,  0,  0,  0,  0,  0,  0],\n",
       "       [ 0,  0, 67,  0,  0,  0,  0,  0,  0,  0,  0,  0,  0,  0,  0,  0,\n",
       "         0,  0,  0,  0,  0,  0,  0,  0],\n",
       "       [ 0,  0,  0, 51,  0,  0,  0,  0,  0,  0,  0,  0,  0,  0,  0,  0,\n",
       "         0,  0,  0,  0,  0,  0,  0,  0],\n",
       "       [ 0,  0,  0,  0, 97,  0,  0,  0,  0,  0,  0,  0,  0,  0,  0,  0,\n",
       "         0,  0,  0,  0,  0,  0,  0,  0],\n",
       "       [ 0,  0,  0,  0,  0, 50,  0,  0,  0,  0,  0,  0,  0,  0,  0,  0,\n",
       "         0,  0,  0,  0,  0,  0,  0,  0],\n",
       "       [ 0,  0,  0,  0,  0,  0, 65,  0,  0,  0,  0,  0,  0,  0,  0,  0,\n",
       "         0,  0,  0,  0,  0,  0,  0,  0],\n",
       "       [ 0,  0,  0,  0,  0,  0,  0, 97,  0,  0,  0,  0,  0,  0,  0,  0,\n",
       "         0,  0,  0,  0,  0,  0,  0,  0],\n",
       "       [ 0,  0,  0,  0,  0,  0,  0,  0, 59,  0,  0,  0,  0,  0,  0,  0,\n",
       "         0,  0,  0,  0,  0,  0,  0,  0],\n",
       "       [ 0,  0,  0,  0,  0,  0,  0,  0,  0, 55,  0,  0,  0,  0,  0,  0,\n",
       "         0,  0,  0,  0,  0,  0,  0,  0],\n",
       "       [ 0,  0,  0,  0,  0,  0,  0,  0,  0,  0, 38,  0,  0,  0,  0,  0,\n",
       "         0,  0,  0,  0,  0,  0,  0,  0],\n",
       "       [ 0,  0,  0,  0,  0,  0,  0,  0,  0,  0,  0, 88,  0,  0,  0,  0,\n",
       "         0,  0,  0,  0,  0,  0,  0,  0],\n",
       "       [ 0,  0,  0,  0,  0,  0,  0,  0,  0,  0,  0,  0, 57,  0,  0,  0,\n",
       "         0,  0,  0,  0,  0,  0,  0,  0],\n",
       "       [ 0,  0,  0,  0,  0,  0,  0,  0,  0,  0,  0,  0,  0, 51,  0,  0,\n",
       "         0,  0,  0,  0,  0,  0,  0,  0],\n",
       "       [ 0,  0,  0,  0,  0,  0,  0,  0,  0,  0,  0,  0,  0,  0, 69,  0,\n",
       "         0,  0,  0,  0,  0,  0,  0,  0],\n",
       "       [ 0,  0,  0,  0,  0,  0,  0,  0,  0,  0,  0,  0,  0,  0,  0, 29,\n",
       "         0,  0,  0,  0,  0,  0,  0,  0],\n",
       "       [ 0,  0,  0,  0,  0,  0,  0,  0,  0,  0,  0,  0,  0,  0,  0,  0,\n",
       "        26,  0,  0,  0,  0,  0,  0,  0],\n",
       "       [ 0,  0,  0,  0,  0,  0,  0,  0,  0,  0,  0,  0,  0,  0,  0,  0,\n",
       "         0, 47,  0,  0,  0,  0,  0,  0],\n",
       "       [ 0,  0,  0,  0,  0,  0,  0,  0,  0,  0,  0,  0,  0,  0,  0,  0,\n",
       "         0,  0, 52,  0,  0,  0,  0,  0],\n",
       "       [ 0,  0,  0,  0,  0,  0,  0,  0,  0,  0,  0,  0,  0,  0,  0,  0,\n",
       "         0,  0,  0, 50,  0,  0,  0,  0],\n",
       "       [ 0,  0,  0,  0,  0,  0,  0,  0,  0,  0,  0,  0,  0,  0,  0,  0,\n",
       "         0,  0,  0,  0, 72,  0,  0,  0],\n",
       "       [ 0,  0,  0,  0,  0,  0,  0,  0,  0,  0,  0,  0,  0,  0,  0,  0,\n",
       "         0,  0,  0,  0,  0, 42,  0,  0],\n",
       "       [ 0,  0,  0,  0,  0,  0,  0,  0,  0,  0,  0,  0,  0,  0,  0,  0,\n",
       "         0,  0,  0,  0,  0,  0, 62,  0],\n",
       "       [ 0,  0,  0,  0,  0,  0,  0,  0,  0,  0,  0,  0,  0,  0,  0,  0,\n",
       "         0,  0,  0,  0,  0,  0,  0, 71]], dtype=int64)"
      ]
     },
     "execution_count": 34,
     "metadata": {},
     "output_type": "execute_result"
    }
   ],
   "source": [
    "from sklearn.metrics import confusion_matrix\n",
    "c_m=confusion_matrix(testing_y,y_pred)\n",
    "c_m"
   ]
  },
  {
   "cell_type": "code",
   "execution_count": 41,
   "metadata": {},
   "outputs": [
    {
     "data": {
      "text/plain": [
       "1.0"
      ]
     },
     "execution_count": 41,
     "metadata": {},
     "output_type": "execute_result"
    }
   ],
   "source": [
    "accuracy=cls_svc.score(testing_x,testing_y)\n",
    "accuracy"
   ]
  },
  {
   "cell_type": "code",
   "execution_count": 42,
   "metadata": {},
   "outputs": [],
   "source": [
    "from sklearn.metrics import precision_recall_fscore_support"
   ]
  },
  {
   "cell_type": "code",
   "execution_count": 43,
   "metadata": {},
   "outputs": [
    {
     "data": {
      "text/plain": [
       "(array([1., 1., 1., 1., 1., 1., 1., 1., 1., 1., 1., 1., 1., 1., 1., 1., 1.,\n",
       "        1., 1., 1., 1., 1., 1., 1.]),\n",
       " array([1., 1., 1., 1., 1., 1., 1., 1., 1., 1., 1., 1., 1., 1., 1., 1., 1.,\n",
       "        1., 1., 1., 1., 1., 1., 1.]),\n",
       " array([1., 1., 1., 1., 1., 1., 1., 1., 1., 1., 1., 1., 1., 1., 1., 1., 1.,\n",
       "        1., 1., 1., 1., 1., 1., 1.]),\n",
       " array([65, 75, 67, 51, 97, 50, 65, 97, 59, 55, 38, 88, 57, 51, 69, 29, 26,\n",
       "        47, 52, 50, 72, 42, 62, 71], dtype=int64))"
      ]
     },
     "execution_count": 43,
     "metadata": {},
     "output_type": "execute_result"
    }
   ],
   "source": [
    "precision_recall_fscore_support(testing_y, y_pred, average=None)"
   ]
  },
  {
   "cell_type": "code",
   "execution_count": 44,
   "metadata": {},
   "outputs": [],
   "source": [
    "import cv2"
   ]
  },
  {
   "cell_type": "code",
   "execution_count": 45,
   "metadata": {},
   "outputs": [
    {
     "data": {
      "text/plain": [
       "<matplotlib.image.AxesImage at 0x1b50d836080>"
      ]
     },
     "execution_count": 45,
     "metadata": {},
     "output_type": "execute_result"
    },
    {
     "data": {
      "image/png": "[encoded data removed]",
      "text/plain": [
       "<Figure size 432x288 with 1 Axes>"
      ]
     },
     "metadata": {},
     "output_type": "display_data"
    }
   ],
   "source": [
    "im = cv2.imread(\"tryy.jpg\")\n",
    "img = cv2.resize(im,(28,28))\n",
    "img = cv2.cvtColor(img,cv2.COLOR_BGR2GRAY)\n",
    "plt.imshow(img)"
   ]
  },
  {
   "cell_type": "code",
   "execution_count": 46,
   "metadata": {},
   "outputs": [
    {
     "data": {
      "text/plain": [
       "array([[220, 223, 219, 216, 218, 219, 222, 221, 224, 223, 224, 224, 223,\n",
       "        224, 218, 219, 221, 222, 222, 221, 225, 223, 223, 223, 222, 222,\n",
       "        224, 223, 221, 221, 219, 219, 218, 221, 220, 221, 224, 225, 224,\n",
       "        222, 224, 223, 219, 221, 222, 223, 222, 222, 225, 223, 221, 223,\n",
       "        223, 224, 224, 223, 220, 221, 215, 218, 218, 219, 220, 222, 223,\n",
       "        224, 226, 222, 225, 223, 217, 220, 220, 221, 223, 222, 226, 223,\n",
       "        223, 224, 223, 225, 223, 223, 222, 220, 218, 216, 217, 216, 220,\n",
       "        221, 224, 225, 225, 223, 224, 221, 216, 219, 220, 222, 221, 224,\n",
       "        224, 222, 225, 223, 224, 225, 225, 223, 220, 219, 216, 216, 216,\n",
       "        220, 220, 222, 224, 223, 222, 222, 221, 220, 217, 218, 212, 217,\n",
       "        216, 214, 225, 207, 214, 219, 224, 220, 224, 225, 219, 218, 214,\n",
       "        214, 215, 217, 221, 222, 224, 222, 224, 222, 221, 199, 198, 189,\n",
       "        179, 184, 170, 161, 173, 167, 174, 180, 225, 227, 223, 224, 218,\n",
       "        216, 215, 214, 215, 217, 221, 222, 221, 223, 223, 222, 191, 169,\n",
       "        169, 163, 160, 150, 162, 160, 154, 158, 170, 165, 231, 223, 225,\n",
       "        223, 217, 215, 216, 215, 216, 216, 222, 220, 223, 223, 218, 202,\n",
       "        170, 147, 158, 152, 149, 136, 151, 152, 134, 133, 153, 161, 181,\n",
       "        223, 226, 221, 217, 214, 216, 214, 214, 218, 218, 221, 221, 222,\n",
       "        223, 189, 195, 143, 122, 122, 129, 111, 128, 118, 110, 125, 161,\n",
       "        156, 155, 223, 225, 224, 215, 215, 214, 214, 215, 219, 218, 221,\n",
       "        221, 221, 212, 190, 195, 178, 130, 111, 111, 110, 134, 155, 148,\n",
       "        174, 176, 147, 218, 225, 223, 226, 216, 216, 214, 215, 216, 215,\n",
       "        222, 221, 220, 219, 191, 187, 196, 194, 179, 174, 179, 193, 198,\n",
       "        200, 186, 178, 154, 172, 223, 225, 224, 224, 215, 214, 213, 215,\n",
       "        216, 218, 220, 218, 220, 216, 171, 181, 190, 199, 198, 196, 190,\n",
       "        187, 182, 175, 168, 144, 146, 225, 224, 226, 225, 224, 215, 211,\n",
       "        210, 218, 214, 217, 219, 217, 218, 213, 171, 162, 166, 167, 180,\n",
       "        165, 158, 152, 147, 144, 134, 159, 209, 219, 222, 224, 225, 222,\n",
       "        211, 211, 211, 213, 216, 216, 216, 215, 215, 209, 189, 140, 140,\n",
       "        142, 148, 139, 127, 121, 118, 146, 181, 196, 209, 220, 224, 224,\n",
       "        223, 222, 209, 211, 210, 213, 214, 215, 215, 214, 214, 209, 203,\n",
       "        144, 148, 148, 142, 136, 124, 112, 144, 189, 192, 195, 207, 219,\n",
       "        221, 222, 224, 223, 207, 209, 210, 214, 214, 215, 214, 215, 213,\n",
       "        207, 200, 157, 155, 159, 149, 141, 130, 122, 185, 190, 194, 199,\n",
       "        214, 218, 220, 222, 221, 224, 210, 208, 211, 211, 215, 215, 215,\n",
       "        215, 212, 210, 199, 166, 164, 160, 153, 144, 140, 130, 189, 193,\n",
       "        201, 209, 217, 218, 219, 220, 222, 222, 207, 208, 209, 211, 211,\n",
       "        211, 214, 215, 211, 205, 185, 174, 168, 159, 156, 154, 144, 139,\n",
       "        194, 203, 210, 213, 217, 216, 220, 220, 221, 222, 207, 206, 209,\n",
       "        210, 211, 209, 211, 212, 211, 207, 173, 173, 172, 168, 164, 162,\n",
       "        152, 138, 199, 207, 211, 213, 214, 217, 219, 220, 221, 221, 204,\n",
       "        205, 208, 210, 211, 211, 213, 212, 210, 206, 160, 174, 175, 175,\n",
       "        172, 167, 160, 137, 194, 204, 209, 213, 215, 216, 218, 217, 220,\n",
       "        221, 204, 206, 207, 210, 212, 210, 213, 211, 207, 203, 156, 171,\n",
       "        174, 177, 175, 168, 157, 139, 189, 207, 207, 212, 216, 216, 217,\n",
       "        218, 218, 222, 205, 204, 207, 208, 210, 210, 210, 210, 208, 200,\n",
       "        159, 170, 174, 176, 176, 171, 157, 138, 172, 204, 208, 211, 217,\n",
       "        217, 217, 218, 215, 219, 203, 204, 206, 209, 207, 212, 211, 207,\n",
       "        203, 197, 158, 166, 172, 176, 172, 169, 157, 143, 154, 205, 210,\n",
       "        213, 216, 213, 217, 215, 216, 215, 202, 203, 206, 209, 208, 211,\n",
       "        209, 208, 203, 189, 157, 163, 169, 174, 173, 167, 160, 143, 131,\n",
       "        205, 208, 214, 216, 217, 215, 219, 214, 215, 203, 205, 206, 208,\n",
       "        208, 208, 206, 207, 202, 184, 158, 165, 166, 172, 171, 167, 162,\n",
       "        144, 126, 205, 211, 214, 217, 217, 216, 216, 217, 212, 200, 202,\n",
       "        204, 206, 206, 206, 204, 204, 198, 167, 155, 159, 166, 170, 171,\n",
       "        169, 160, 149, 135, 212, 208, 212, 213, 215, 215, 215, 214, 211,\n",
       "        200, 202, 202, 203, 204, 204, 203, 203, 198, 157, 150, 157, 164,\n",
       "        170, 171, 167, 164, 149, 138, 205, 207, 213, 211, 214, 213, 214,\n",
       "        215, 211, 199, 200, 203, 202, 204, 202, 201, 202, 195, 148, 151,\n",
       "        158, 164, 168, 169, 168, 163, 154, 143, 146, 208, 214, 215, 214,\n",
       "        214, 214, 213, 213]], dtype=uint8)"
      ]
     },
     "execution_count": 46,
     "metadata": {},
     "output_type": "execute_result"
    }
   ],
   "source": [
    "i = np.reshape(img,(1,784))\n",
    "i"
   ]
  },
  {
   "cell_type": "code",
   "execution_count": 49,
   "metadata": {},
   "outputs": [
    {
     "data": {
      "text/plain": [
       "array([13], dtype=int64)"
      ]
     },
     "execution_count": 49,
     "metadata": {},
     "output_type": "execute_result"
    }
   ],
   "source": [
    "y_pred=cls_svc.predict(test_x)\n",
    "y_pred"
   ]
  },
  {
   "cell_type": "code",
   "execution_count": 50,
   "metadata": {},
   "outputs": [
    {
     "data": {
      "text/plain": [
       "array([[ 1.67139468,  1.74005152,  1.63401278,  1.54264003,  1.59568677,\n",
       "         1.62361374,  1.65615625,  1.60842609,  1.74745586,  1.73384442,\n",
       "         1.80514007,  1.84377414,  1.80301474,  1.81445533,  1.64996748,\n",
       "         1.72598605,  1.81548171,  1.88391402,  1.88668133,  1.83518606,\n",
       "         1.98927741,  1.94807911,  1.96561665,  1.92056789,  1.85571086,\n",
       "         1.68260635,  1.66008781,  1.64676522,  1.64707443,  1.63884618,\n",
       "         1.58073912,  1.56617438,  1.54879295,  1.61875089,  1.54205192,\n",
       "         1.54973232,  1.67439527,  1.73912297,  1.74100978,  1.6897055 ,\n",
       "         1.72899971,  1.70818531,  1.60435123,  1.71244694,  1.71589884,\n",
       "         1.82629702,  1.81190436,  1.77753855,  1.89898105,  1.86125166,\n",
       "         1.78506853,  1.82975109,  1.78938636,  1.66460298,  1.63612957,\n",
       "         1.6272231 ,  1.57909497,  1.58876129,  1.42977106,  1.48644354,\n",
       "         1.49277334,  1.50116663,  1.47532391,  1.51621675,  1.58752819,\n",
       "         1.62795249,  1.72028812,  1.58676388,  1.68012585,  1.59864429,\n",
       "         1.42594615,  1.55569386,  1.55765322,  1.63603598,  1.67307004,\n",
       "         1.66029341,  1.83606737,  1.73061679,  1.75994686,  1.78732963,\n",
       "         1.6900039 ,  1.62924856,  1.54292313,  1.5506927 ,  1.58161198,\n",
       "         1.51699424,  1.45396741,  1.38227255,  1.41476862,  1.36759966,\n",
       "         1.41220247,  1.43506451,  1.5691999 ,  1.55986393,  1.58357819,\n",
       "         1.55264805,  1.56636445,  1.42089899,  1.30660318,  1.43424639,\n",
       "         1.44767917,  1.55575701,  1.50362766,  1.59805354,  1.66062432,\n",
       "         1.63512097,  1.75512917,  1.70652729,  1.65831144,  1.58550263,\n",
       "         1.50782095,  1.48053949,  1.49276293,  1.44563568,  1.35470432,\n",
       "         1.33318625,  1.34008572,  1.41105048,  1.36010379,  1.39988112,\n",
       "         1.49033944,  1.41627444,  1.36077224,  1.41670671,  1.37260065,\n",
       "         1.31308271,  1.29056353,  1.36578422,  1.21613817,  1.38424604,\n",
       "         1.34145923,  1.32086613,  1.60106306,  1.0766784 ,  1.29352467,\n",
       "         1.45585181,  1.62473406,  1.39088834,  1.42131398,  1.45474076,\n",
       "         1.42636264,  1.38058441,  1.25926949,  1.24196106,  1.25878163,\n",
       "         1.2791531 ,  1.34822393,  1.36338824,  1.46513676,  1.34236268,\n",
       "         1.33193049,  1.32217615,  1.32913707,  0.80990044,  0.8515742 ,\n",
       "         0.67172737,  0.44965942,  0.64490011,  0.34206107,  0.07789375,\n",
       "         0.34000726,  0.10920121,  0.18868586,  0.25879635,  1.5433105 ,\n",
       "         1.60202972,  1.37616235,  1.34775036,  1.3608749 ,  1.29129108,\n",
       "         1.24001416,  1.1961676 ,  1.20035902,  1.20768336,  1.26597966,\n",
       "         1.29465456,  1.29917694,  1.29754665,  1.28576179,  1.28432975,\n",
       "         0.58324827,  0.14888231,  0.26459032,  0.12896521,  0.0451145 ,\n",
       "        -0.06596365,  0.20237941,  0.10160778, -0.05488645, -0.00932832,\n",
       "         0.17635192, -0.09805133,  1.61216105,  1.43247566,  1.40684023,\n",
       "         1.29974387,  1.29986608,  1.22840549,  1.22121096,  1.17043587,\n",
       "         1.16520654,  1.13178076,  1.23710311,  1.22710455,  1.32641045,\n",
       "         1.24312596,  1.13762414,  0.84555211,  0.1711263 , -0.24934724,\n",
       "         0.09577521, -0.03957585, -0.11611989, -0.32551826,  0.01960882,\n",
       "        -0.03081238, -0.46460198, -0.51282974, -0.14488774, -0.1558975 ,\n",
       "         0.27855303,  1.36592157,  1.41756271,  1.23490909,  1.26181006,\n",
       "         1.16248901,  1.17692937,  1.10228657,  1.0898363 ,  1.10544973,\n",
       "         1.10463608,  1.22420547,  1.22262721,  1.22647264,  1.27025112,\n",
       "         0.64464803,  0.82675623, -0.2171821 , -0.53940763, -0.57387931,\n",
       "        -0.46613563, -0.81946374, -0.41782411, -0.73427449, -0.95093654,\n",
       "        -0.64864352,  0.05855258, -0.22696653, -0.34091411,  1.31139573,\n",
       "         1.38251667,  1.32111118,  1.185633  ,  1.14897294,  1.09408046,\n",
       "         1.06859316,  1.06700604,  1.07944199,  1.05662478,  1.14527082,\n",
       "         1.19590158,  1.20547158,  1.05273843,  0.72009141,  0.92246277,\n",
       "         0.62893174, -0.28825973, -0.78552705, -0.84838932, -0.79270959,\n",
       "        -0.26073986,  0.12010082, -0.06818651,  0.46125184,  0.41537407,\n",
       "        -0.40075694,  1.156512  ,  1.29133413,  1.27453607,  1.34059634,\n",
       "         1.1709315 ,  1.13701055,  1.06505139,  1.05068481,  1.03636947,\n",
       "         0.96016205,  1.09503819,  1.09925167,  1.16938266,  1.19407917,\n",
       "         0.69737879,  0.75588234,  1.02509484,  1.04722595,  0.82774435,\n",
       "         0.65755103,  0.69230557,  1.04602119,  1.11743224,  1.0850538 ,\n",
       "         0.73545795,  0.5278184 , -0.05430386,  0.18533913,  1.24298997,\n",
       "         1.2585317 ,  1.25223616,  1.26064061,  1.12500926,  1.0693725 ,\n",
       "         1.01739453,  1.02054354,  0.99972219,  0.96899699,  1.03279582,\n",
       "         1.04741868,  1.14718014,  1.16573589,  0.34278352,  0.7189983 ,\n",
       "         0.98782916,  1.24629359,  1.33196156,  1.24120203,  1.00661262,\n",
       "         0.91057706,  0.78040116,  0.58688743,  0.35618065, -0.2284137 ,\n",
       "        -0.26170544,  1.37702494,  1.26328504,  1.26124299,  1.24721303,\n",
       "         1.24643418,  1.09416458,  0.96806227,  0.91184992,  1.06712551,\n",
       "         0.9078768 ,  0.91241997,  0.99513693,  1.02407686,  1.11436998,\n",
       "         1.13409775,  0.44691338,  0.44104783,  0.59687747,  0.73251643,\n",
       "         1.04427737,  0.61696642,  0.37080011,  0.20051489,  0.06542148,\n",
       "        -0.08649317, -0.33752134,  0.07744307,  1.04183346,  1.21935727,\n",
       "         1.18832467,  1.18538765,  1.19390008,  1.13527044,  0.97647071,\n",
       "         0.93465938,  0.90441424,  0.91289895,  0.92771136,  0.87299248,\n",
       "         0.88133155,  0.9743707 ,  1.06176738,  1.07084391,  0.86336839,\n",
       "         0.08856467,  0.16228339,  0.28081676,  0.40637085,  0.04231588,\n",
       "        -0.27285344, -0.37945107, -0.51376564, -0.07253072,  0.59279483,\n",
       "         0.82122398,  1.0406916 ,  1.22719278,  1.20407031,  1.1571708 ,\n",
       "         1.0942782 ,  1.0699195 ,  0.90080863,  0.91136685,  0.85603186,\n",
       "         0.88023005,  0.84557353,  0.80464093,  0.81204995,  0.91277595,\n",
       "         1.01468061,  1.07732732,  1.12939813,  0.18766679,  0.33695165,\n",
       "         0.39156115,  0.26651613,  0.00538007, -0.31950527, -0.56890572,\n",
       "        -0.0097835 ,  0.80980232,  0.85069172,  0.83454364,  1.00655843,\n",
       "         1.15496625,  1.13050367,  1.0526251 ,  1.09199236,  1.05453311,\n",
       "         0.83963985,  0.8430377 ,  0.8330851 ,  0.87430036,  0.81160606,\n",
       "         0.77623921,  0.76829315,  0.89137817,  0.94295313,  1.02971888,\n",
       "         1.09619353,  0.45451674,  0.46529592,  0.56654524,  0.34345186,\n",
       "         0.07373288, -0.21939994, -0.4047896 ,  0.75864927,  0.88075029,\n",
       "         0.93351351,  0.95622122,  1.13118084,  1.1161967 ,  1.07190768,\n",
       "         1.02352584,  0.95688981,  1.04372836,  0.8952164 ,  0.81349398,\n",
       "         0.8346673 ,  0.77252263,  0.80961074,  0.7535738 ,  0.76728897,\n",
       "         0.84842564,  0.89288331,  1.05761926,  1.06734397,  0.62315099,\n",
       "         0.60361613,  0.49558491,  0.3129871 ,  0.07081824, -0.07325051,\n",
       "        -0.29207743,  0.78875544,  0.93926473,  1.14503845,  1.17855605,\n",
       "         1.20124896,  1.10893532,  0.99779692,  0.94320505,  0.94933799,\n",
       "         0.95612741,  0.82271676,  0.80021472,  0.77889298,  0.76121314,\n",
       "         0.6968111 ,  0.6513697 ,  0.72000977,  0.81554904,  0.83368311,\n",
       "         0.89528706,  0.75338695,  0.75318682,  0.62450561,  0.36628177,\n",
       "         0.30176339,  0.20587935, -0.04433778, -0.12966529,  0.93043799,\n",
       "         1.18934967,  1.39081883,  1.28832574,  1.18587191,  1.02405671,\n",
       "         0.98868315,  0.91732372,  0.91240562,  0.93594384,  0.82182592,\n",
       "         0.75376693,  0.77904241,  0.73577138,  0.69115698,  0.6080899 ,\n",
       "         0.6615616 ,  0.73655905,  0.78612719,  0.90092732,  0.4733601 ,\n",
       "         0.65545463,  0.64595209,  0.4829993 ,  0.414235  ,  0.31626074,\n",
       "         0.06450021, -0.16247775,  1.11755866,  1.32042681,  1.42598747,\n",
       "         1.30058224,  1.07812112,  0.99728323,  0.93537506,  0.87274932,\n",
       "         0.87365909,  0.8831889 ,  0.75227253,  0.73295615,  0.76543584,\n",
       "         0.73551226,  0.69772687,  0.66247544,  0.71604203,  0.7377298 ,\n",
       "         0.73897521,  0.84061834,  0.13468439,  0.60085531,  0.65289545,\n",
       "         0.57313068,  0.50050978,  0.34536043,  0.22950965, -0.12716606,\n",
       "         1.13034896,  1.34770765,  1.40855439,  1.25531465,  1.03383178,\n",
       "         0.92132093,  0.85252855,  0.78987789,  0.84831196,  0.88005751,\n",
       "         0.78479325,  0.78939092,  0.75549804,  0.77222135,  0.74482647,\n",
       "         0.66911475,  0.74729725,  0.72360516,  0.6984479 ,  0.76946275,\n",
       "        -0.00989336,  0.45209092,  0.53571065,  0.58285506,  0.5075221 ,\n",
       "         0.32811529,  0.21153048, -0.01548081,  1.07297174,  1.44282178,\n",
       "         1.31960668,  1.11202699,  0.98481185,  0.85958921,  0.80107725,\n",
       "         0.79804161,  0.78690158,  0.87904489,  0.8309147 ,  0.78445407,\n",
       "         0.79435559,  0.75894197,  0.7375406 ,  0.70553576,  0.72508504,\n",
       "         0.75320882,  0.77087535,  0.7301745 ,  0.04152685,  0.37765967,\n",
       "         0.50945324,  0.5689068 ,  0.54670073,  0.44920067,  0.24316022,\n",
       "        -0.01074137,  0.75140922,  1.34428521,  1.21251177,  0.98162472,\n",
       "         0.95393387,  0.85380954,  0.79310733,  0.80354158,  0.73916494,\n",
       "         0.83035163,  0.82455146,  0.8159555 ,  0.81471618,  0.82282652,\n",
       "         0.73375387,  0.80722792,  0.80336155,  0.74748186,  0.70754068,\n",
       "         0.6876185 , -0.01281537,  0.26774398,  0.48574219,  0.61158666,\n",
       "         0.54497522,  0.49503331,  0.3158132 ,  0.15843916,  0.41756634,\n",
       "         1.2842542 ,  1.10178802,  0.95607005,  0.92025591,  0.76275277,\n",
       "         0.78679605,  0.7466899 ,  0.77003742,  0.74833777,  0.83385738,\n",
       "         0.83565483,  0.82773757,  0.85768127,  0.78915947,  0.82158836,\n",
       "         0.7979811 ,  0.77858379,  0.72860415,  0.53962352, -0.02977901,\n",
       "         0.21828742,  0.44266439,  0.62280655,  0.62626236,  0.53731178,\n",
       "         0.47443106,  0.18297478, -0.02600948,  1.14220653,  0.97424698,\n",
       "         0.94981395,  0.85974205,  0.81702121,  0.73844911,  0.81592012,\n",
       "         0.72855762,  0.75560763,  0.90053937,  0.91093077,  0.87505799,\n",
       "         0.88085714,  0.83927191,  0.80860259,  0.79182142,  0.82427601,\n",
       "         0.75457765,  0.47747411,  0.06619713,  0.29971182,  0.42362162,\n",
       "         0.63020919,  0.63913865,  0.62357166,  0.56190445,  0.20229977,\n",
       "        -0.13911928,  1.02810653,  0.97280505,  0.90598277,  0.85861853,\n",
       "         0.79719082,  0.7486216 ,  0.75476509,  0.78844788,  0.74891178,\n",
       "         0.90725897,  0.90470063,  0.89795535,  0.89327052,  0.85508954,\n",
       "         0.84381352,  0.77490856,  0.81973744,  0.72462714,  0.21608969,\n",
       "         0.07575241,  0.25104884,  0.48788604,  0.65103888,  0.72624615,\n",
       "         0.71468768,  0.53873309,  0.29729556, -0.00339167,  1.09293942,\n",
       "         0.89447774,  0.83272766,  0.76784081,  0.75744896,  0.75166975,\n",
       "         0.76843585,  0.78852593,  0.77349184,  0.99820222,  1.01303925,\n",
       "         0.9553002 ,  0.94290344,  0.9328554 ,  0.90863949,  0.86839278,\n",
       "         0.87010899,  0.81566702,  0.1322573 ,  0.04061875,  0.2505058 ,\n",
       "         0.49562036,  0.70219712,  0.76157602,  0.68978957,  0.6353945 ,\n",
       "         0.31491198,  0.02084685,  0.95255307,  0.85274091,  0.85992247,\n",
       "         0.76688322,  0.79141357,  0.77927786,  0.81504184,  0.83917345,\n",
       "         0.79331043,  1.05021831,  1.0618194 ,  1.0518469 ,  1.02249262,\n",
       "         1.00285979,  0.95793227,  0.92687193,  0.90039496,  0.81770334,\n",
       "         0.05786122,  0.13118191,  0.33340281,  0.54739398,  0.68377004,\n",
       "         0.72338374,  0.74336236,  0.62207743,  0.40800117,  0.08472819,\n",
       "         0.0175052 ,  0.87446988,  0.89844141,  0.8653053 ,  0.83330994,\n",
       "         0.84150018,  0.85672679,  0.84311655,  0.85931774]])"
      ]
     },
     "execution_count": 50,
     "metadata": {},
     "output_type": "execute_result"
    }
   ],
   "source": [
    "test_x"
   ]
  },
  {
   "cell_type": "code",
   "execution_count": null,
   "metadata": {},
   "outputs": [],
   "source": []
  }
 ],
 "metadata": {
  "kernelspec": {
   "display_name": "Python 3",
   "language": "python",
   "name": "python3"
  },
  "language_info": {
   "codemirror_mode": {
    "name": "ipython",
    "version": 3
   },
   "file_extension": ".py",
   "mimetype": "text/x-python",
   "name": "python",
   "nbconvert_exporter": "python",
   "pygments_lexer": "ipython3",
   "version": "3.6.4"
  }
 },
 "nbformat": 4,
 "nbformat_minor": 2
}
