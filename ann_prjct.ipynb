{
 "cells": [
  {
   "cell_type": "code",
   "execution_count": 126,
   "metadata": {},
   "outputs": [],
   "source": [
    "import matplotlib.pyplot as plt\n",
    "import numpy as np\n",
    "import pandas as pd\n",
    "import matplotlib.pyplot as plt\n",
    "from sklearn.model_selection import train_test_split\n",
    "from keras.utils import to_categorical \n",
    "from sklearn.preprocessing import StandardScaler\n",
    "from keras.layers import Dense\n",
    "from keras.models import Sequential\n",
    "from keras.layers.core import Activation"
   ]
  },
  {
   "cell_type": "code",
   "execution_count": 127,
   "metadata": {},
   "outputs": [],
   "source": [
    "from keras.layers.advanced_activations import LeakyReLU"
   ]
  },
  {
   "cell_type": "code",
   "execution_count": 128,
   "metadata": {},
   "outputs": [
    {
     "name": "stdout",
     "output_type": "stream",
     "text": [
      "(7172, 785)\n"
     ]
    },
    {
     "data": {
      "text/html": [
       "<div>\n",
       "<style scoped>\n",
       "    .dataframe tbody tr th:only-of-type {\n",
       "        vertical-align: middle;\n",
       "    }\n",
       "\n",
       "    .dataframe tbody tr th {\n",
       "        vertical-align: top;\n",
       "    }\n",
       "\n",
       "    .dataframe thead th {\n",
       "        text-align: right;\n",
       "    }\n",
       "</style>\n",
       "<table border=\"1\" class=\"dataframe\">\n",
       "  <thead>\n",
       "    <tr style=\"text-align: right;\">\n",
       "      <th></th>\n",
       "      <th>label</th>\n",
       "      <th>pixel1</th>\n",
       "      <th>pixel2</th>\n",
       "      <th>pixel3</th>\n",
       "      <th>pixel4</th>\n",
       "      <th>pixel5</th>\n",
       "      <th>pixel6</th>\n",
       "      <th>pixel7</th>\n",
       "      <th>pixel8</th>\n",
       "      <th>pixel9</th>\n",
       "      <th>...</th>\n",
       "      <th>pixel775</th>\n",
       "      <th>pixel776</th>\n",
       "      <th>pixel777</th>\n",
       "      <th>pixel778</th>\n",
       "      <th>pixel779</th>\n",
       "      <th>pixel780</th>\n",
       "      <th>pixel781</th>\n",
       "      <th>pixel782</th>\n",
       "      <th>pixel783</th>\n",
       "      <th>pixel784</th>\n",
       "    </tr>\n",
       "  </thead>\n",
       "  <tbody>\n",
       "    <tr>\n",
       "      <th>0</th>\n",
       "      <td>6</td>\n",
       "      <td>149</td>\n",
       "      <td>149</td>\n",
       "      <td>150</td>\n",
       "      <td>150</td>\n",
       "      <td>150</td>\n",
       "      <td>151</td>\n",
       "      <td>151</td>\n",
       "      <td>150</td>\n",
       "      <td>151</td>\n",
       "      <td>...</td>\n",
       "      <td>138</td>\n",
       "      <td>148</td>\n",
       "      <td>127</td>\n",
       "      <td>89</td>\n",
       "      <td>82</td>\n",
       "      <td>96</td>\n",
       "      <td>106</td>\n",
       "      <td>112</td>\n",
       "      <td>120</td>\n",
       "      <td>107</td>\n",
       "    </tr>\n",
       "    <tr>\n",
       "      <th>1</th>\n",
       "      <td>5</td>\n",
       "      <td>126</td>\n",
       "      <td>128</td>\n",
       "      <td>131</td>\n",
       "      <td>132</td>\n",
       "      <td>133</td>\n",
       "      <td>134</td>\n",
       "      <td>135</td>\n",
       "      <td>135</td>\n",
       "      <td>136</td>\n",
       "      <td>...</td>\n",
       "      <td>47</td>\n",
       "      <td>104</td>\n",
       "      <td>194</td>\n",
       "      <td>183</td>\n",
       "      <td>186</td>\n",
       "      <td>184</td>\n",
       "      <td>184</td>\n",
       "      <td>184</td>\n",
       "      <td>182</td>\n",
       "      <td>180</td>\n",
       "    </tr>\n",
       "    <tr>\n",
       "      <th>2</th>\n",
       "      <td>10</td>\n",
       "      <td>85</td>\n",
       "      <td>88</td>\n",
       "      <td>92</td>\n",
       "      <td>96</td>\n",
       "      <td>105</td>\n",
       "      <td>123</td>\n",
       "      <td>135</td>\n",
       "      <td>143</td>\n",
       "      <td>147</td>\n",
       "      <td>...</td>\n",
       "      <td>68</td>\n",
       "      <td>166</td>\n",
       "      <td>242</td>\n",
       "      <td>227</td>\n",
       "      <td>230</td>\n",
       "      <td>227</td>\n",
       "      <td>226</td>\n",
       "      <td>225</td>\n",
       "      <td>224</td>\n",
       "      <td>222</td>\n",
       "    </tr>\n",
       "    <tr>\n",
       "      <th>3</th>\n",
       "      <td>0</td>\n",
       "      <td>203</td>\n",
       "      <td>205</td>\n",
       "      <td>207</td>\n",
       "      <td>206</td>\n",
       "      <td>207</td>\n",
       "      <td>209</td>\n",
       "      <td>210</td>\n",
       "      <td>209</td>\n",
       "      <td>210</td>\n",
       "      <td>...</td>\n",
       "      <td>154</td>\n",
       "      <td>248</td>\n",
       "      <td>247</td>\n",
       "      <td>248</td>\n",
       "      <td>253</td>\n",
       "      <td>236</td>\n",
       "      <td>230</td>\n",
       "      <td>240</td>\n",
       "      <td>253</td>\n",
       "      <td>255</td>\n",
       "    </tr>\n",
       "    <tr>\n",
       "      <th>4</th>\n",
       "      <td>3</td>\n",
       "      <td>188</td>\n",
       "      <td>191</td>\n",
       "      <td>193</td>\n",
       "      <td>195</td>\n",
       "      <td>199</td>\n",
       "      <td>201</td>\n",
       "      <td>202</td>\n",
       "      <td>203</td>\n",
       "      <td>203</td>\n",
       "      <td>...</td>\n",
       "      <td>26</td>\n",
       "      <td>40</td>\n",
       "      <td>64</td>\n",
       "      <td>48</td>\n",
       "      <td>29</td>\n",
       "      <td>46</td>\n",
       "      <td>49</td>\n",
       "      <td>46</td>\n",
       "      <td>46</td>\n",
       "      <td>53</td>\n",
       "    </tr>\n",
       "  </tbody>\n",
       "</table>\n",
       "<p>5 rows × 785 columns</p>\n",
       "</div>"
      ],
      "text/plain": [
       "   label  pixel1  pixel2  pixel3  pixel4  pixel5  pixel6  pixel7  pixel8  \\\n",
       "0      6     149     149     150     150     150     151     151     150   \n",
       "1      5     126     128     131     132     133     134     135     135   \n",
       "2     10      85      88      92      96     105     123     135     143   \n",
       "3      0     203     205     207     206     207     209     210     209   \n",
       "4      3     188     191     193     195     199     201     202     203   \n",
       "\n",
       "   pixel9    ...     pixel775  pixel776  pixel777  pixel778  pixel779  \\\n",
       "0     151    ...          138       148       127        89        82   \n",
       "1     136    ...           47       104       194       183       186   \n",
       "2     147    ...           68       166       242       227       230   \n",
       "3     210    ...          154       248       247       248       253   \n",
       "4     203    ...           26        40        64        48        29   \n",
       "\n",
       "   pixel780  pixel781  pixel782  pixel783  pixel784  \n",
       "0        96       106       112       120       107  \n",
       "1       184       184       184       182       180  \n",
       "2       227       226       225       224       222  \n",
       "3       236       230       240       253       255  \n",
       "4        46        49        46        46        53  \n",
       "\n",
       "[5 rows x 785 columns]"
      ]
     },
     "execution_count": 128,
     "metadata": {},
     "output_type": "execute_result"
    }
   ],
   "source": [
    "data = pd.read_csv(\"sign_mnist_test.csv\")\n",
    "print(data.shape)\n",
    "data.head()"
   ]
  },
  {
   "cell_type": "code",
   "execution_count": null,
   "metadata": {},
   "outputs": [],
   "source": []
  },
  {
   "cell_type": "code",
   "execution_count": null,
   "metadata": {},
   "outputs": [],
   "source": []
  },
  {
   "cell_type": "code",
   "execution_count": 129,
   "metadata": {},
   "outputs": [],
   "source": [
    "real_x=data.iloc[:,1:785].values\n",
    "real_y=data.iloc[:,0].values"
   ]
  },
  {
   "cell_type": "code",
   "execution_count": null,
   "metadata": {},
   "outputs": [],
   "source": []
  },
  {
   "cell_type": "code",
   "execution_count": 278,
   "metadata": {},
   "outputs": [
    {
     "data": {
      "text/plain": [
       "array([[141, 143, 149, ...,  98, 135, 208],\n",
       "       [203, 206, 208, ..., 233, 233, 230],\n",
       "       [129, 129, 129, ..., 146, 146, 145],\n",
       "       ...,\n",
       "       [151, 154, 155, ..., 175, 173, 172],\n",
       "       [164, 164, 165, ..., 211, 210, 209],\n",
       "       [181, 182, 182, ..., 207, 205, 205]], dtype=int64)"
      ]
     },
     "execution_count": 278,
     "metadata": {},
     "output_type": "execute_result"
    }
   ],
   "source": [
    "training_x,testing_x,training_y,testing_y=train_test_split(real_x,real_y,test_size=0.20,random_state=0)\n",
    "testing_x"
   ]
  },
  {
   "cell_type": "code",
   "execution_count": 279,
   "metadata": {},
   "outputs": [
    {
     "name": "stderr",
     "output_type": "stream",
     "text": [
      "c:\\users\\dell\\appdata\\local\\programs\\python\\python36\\lib\\site-packages\\sklearn\\utils\\validation.py:475: DataConversionWarning: Data with input dtype int64 was converted to float64 by StandardScaler.\n",
      "  warnings.warn(msg, DataConversionWarning)\n",
      "c:\\users\\dell\\appdata\\local\\programs\\python\\python36\\lib\\site-packages\\sklearn\\utils\\validation.py:475: DataConversionWarning: Data with input dtype uint8 was converted to float64 by StandardScaler.\n",
      "  warnings.warn(msg, DataConversionWarning)\n"
     ]
    },
    {
     "data": {
      "text/plain": [
       "array([[ 4.54822639e-01,  4.04767921e-01,  3.97495889e-01,\n",
       "         3.24261240e-01,  2.45640056e-01,  1.55335818e-01,\n",
       "         8.73789695e-02, -5.65115733e-03, -6.53036195e-02,\n",
       "        -1.21328365e-01, -1.39190625e-01, -2.08279743e-01,\n",
       "        -1.35738645e-01, -1.24017341e-01, -1.63627504e-01,\n",
       "        -2.31752293e-01, -2.16134396e-01, -2.58506611e-01,\n",
       "        -3.76182381e-01, -3.28594441e-01, -3.97558308e-01,\n",
       "        -4.06757098e-01, -3.58342928e-01, -2.70856871e-01,\n",
       "        -1.84746813e-01, -8.62212087e-02,  2.23764314e-02,\n",
       "         2.35246400e-02,  4.12772630e-01,  3.83197483e-01,\n",
       "         3.50537712e-01,  3.03925433e-01,  2.51693100e-01,\n",
       "         1.03348129e-01,  1.43181059e-02, -8.23965086e-02,\n",
       "        -1.51186595e-01, -2.70394800e-01, -2.13873781e-01,\n",
       "        -2.15259319e-01, -2.12084897e-01, -2.40277149e-01,\n",
       "        -2.70761205e-01, -2.56632089e-01, -2.76598629e-01,\n",
       "        -2.79281174e-01, -1.98346461e-01, -3.77041466e-01,\n",
       "        -5.21926024e-01, -5.32382227e-01, -4.90737650e-01,\n",
       "        -4.39876101e-01, -3.38547181e-01, -1.51356319e-01,\n",
       "        -9.63263140e-02, -8.81541820e-02,  3.46768178e-01,\n",
       "         2.91160773e-01,  2.52301474e-01,  1.77212522e-01,\n",
       "         1.18573368e-01, -5.61578311e-03, -8.67296353e-02,\n",
       "        -1.31685703e-01, -2.37203765e-01, -3.08549244e-01,\n",
       "        -3.80121729e-01, -3.22280898e-01, -3.67609444e-01,\n",
       "        -3.67756959e-01, -2.84553171e-01, -1.71452996e-01,\n",
       "        -1.94590754e-01, -1.02463683e-01, -3.25460483e-01,\n",
       "        -5.23015111e-01, -4.94443012e-01, -6.40328398e-01,\n",
       "        -5.78524744e-01, -4.96836115e-01, -3.48097143e-01,\n",
       "        -2.09145664e-01, -1.82797967e-01, -1.25590512e-01,\n",
       "         2.83891386e-01,  2.73045217e-01,  2.06084667e-01,\n",
       "         1.28621099e-01,  4.30295068e-02, -7.90804132e-02,\n",
       "        -1.62119078e-01, -2.63227814e-01, -3.56189723e-01,\n",
       "        -4.61029723e-01, -4.67536014e-01, -4.29060976e-01,\n",
       "        -7.30707251e-01, -7.94744450e-01, -3.44745125e-01,\n",
       "        -1.99951911e-01, -1.04619918e-01, -1.87067163e-01,\n",
       "        -6.19230041e-01, -8.12814713e-01, -4.16226139e-01,\n",
       "        -5.43861931e-01, -5.66554222e-01, -5.17027505e-01,\n",
       "        -4.08260966e-01, -2.75724095e-01, -2.17484177e-01,\n",
       "        -1.58235407e-01,  2.22711284e-01,  1.60959591e-01,\n",
       "         9.38525696e-02,  4.10143851e-02, -5.24571928e-02,\n",
       "        -1.83348619e-01, -2.97729966e-01, -3.77574330e-01,\n",
       "        -4.97642715e-01, -6.24087919e-01, -5.93818905e-01,\n",
       "        -6.32444801e-01, -1.16927964e+00, -1.19362077e+00,\n",
       "        -2.87189631e-01, -1.41805143e-01, -7.61083572e-03,\n",
       "        -4.54476677e-01, -8.12380866e-01, -9.92725601e-01,\n",
       "        -2.19729217e-01, -3.00987757e-01, -4.33116209e-01,\n",
       "        -4.22848025e-01, -4.49540691e-01, -3.45347437e-01,\n",
       "        -2.76837565e-01, -2.22109311e-01,  2.10316834e-01,\n",
       "         1.46095221e-01,  8.13643015e-02, -1.90363116e-03,\n",
       "        -9.60377486e-02, -2.36585245e-01, -3.68238399e-01,\n",
       "        -4.71876277e-01, -5.52403858e-01, -5.78417349e-01,\n",
       "        -5.18337549e-01, -7.61561114e-01, -1.23257714e+00,\n",
       "        -9.99927106e-01, -1.02377355e-01, -8.98875161e-02,\n",
       "        -6.36897186e-02, -5.44941976e-01, -8.80787015e-01,\n",
       "        -6.46568630e-01, -8.28611825e-02, -2.12175766e-01,\n",
       "        -4.12349482e-01, -3.76993872e-01, -3.71618261e-01,\n",
       "        -4.26241214e-01, -3.34437040e-01, -2.64822258e-01,\n",
       "         1.49968831e-01,  8.61280857e-02,  1.99735280e-02,\n",
       "        -7.49035639e-02, -1.86848887e-01, -3.15965825e-01,\n",
       "        -4.10607989e-01, -5.15708484e-01, -6.14706977e-01,\n",
       "        -6.07416660e-01, -4.97316212e-01, -6.62735522e-01,\n",
       "        -9.97225460e-01, -6.38886022e-01,  1.28739381e-02,\n",
       "        -2.68491605e-02, -1.79811092e-01, -4.14529380e-01,\n",
       "        -7.99316391e-01, -3.53073261e-01, -2.13028560e-01,\n",
       "        -4.90633706e-01, -7.31051528e-01, -3.11107099e-01,\n",
       "        -3.15120098e-01, -4.49467723e-01, -3.69653849e-01,\n",
       "        -3.30494892e-01,  1.17398577e-01,  5.34457744e-02,\n",
       "        -1.14579818e-02, -1.38764635e-01, -2.18464167e-01,\n",
       "        -3.65128878e-01, -4.65230402e-01, -5.34848960e-01,\n",
       "        -6.21704874e-01, -5.87119229e-01, -4.70716005e-01,\n",
       "        -4.57224187e-01, -6.42455706e-01, -3.33899955e-01,\n",
       "         1.41011295e-02,  2.48101944e-02, -2.25714177e-01,\n",
       "        -3.46987216e-01, -6.12508553e-01, -5.34839927e-02,\n",
       "        -4.86812156e-01, -6.67244277e-01, -7.32115525e-01,\n",
       "        -2.57929151e-01, -2.52405493e-01, -4.28213958e-01,\n",
       "        -4.53617212e-01, -4.39760012e-01,  8.86987448e-02,\n",
       "        -2.91563260e-03, -6.88438414e-02, -1.79904982e-01,\n",
       "        -2.31340049e-01, -3.59132811e-01, -4.94493059e-01,\n",
       "        -5.74360728e-01, -5.73445947e-01, -4.65018330e-01,\n",
       "        -4.33891760e-01, -4.10760614e-01, -4.57279178e-01,\n",
       "        -1.96886065e-01,  5.06021389e-02, -3.81901459e-02,\n",
       "        -2.26969956e-01, -5.00325804e-01, -2.72595712e-01,\n",
       "        -9.29123701e-02, -5.80202697e-01, -8.44530655e-01,\n",
       "        -4.77096325e-01, -2.26966527e-01, -2.68212292e-01,\n",
       "        -4.13670037e-01, -4.53272647e-01, -4.67975127e-01,\n",
       "         1.57707349e-02, -3.53194837e-02, -7.43850390e-02,\n",
       "        -1.89126245e-01, -3.11667726e-01, -3.56204930e-01,\n",
       "        -4.87740105e-01, -5.45196794e-01, -5.14196077e-01,\n",
       "        -4.03020377e-01, -4.05485112e-01, -3.35921833e-01,\n",
       "        -3.36026928e-01, -6.75617967e-04,  1.10718802e-01,\n",
       "        -9.33236376e-02, -3.21604162e-01, -7.06084072e-01,\n",
       "        -3.22240365e-02, -1.32464194e-01, -4.70271110e-01,\n",
       "        -7.59524830e-01, -1.68360979e-01, -1.68217309e-01,\n",
       "        -2.36113596e-01, -3.40214167e-01, -4.53837864e-01,\n",
       "        -4.97562196e-01, -3.68731917e-02, -8.59640642e-02,\n",
       "        -1.48062853e-01, -2.96020332e-01, -3.92952077e-01,\n",
       "        -4.16707045e-01, -4.94517902e-01, -5.33071055e-01,\n",
       "        -4.84251940e-01, -3.63555369e-01, -2.37140063e-01,\n",
       "        -6.62099990e-02, -1.76360547e-01,  1.06894356e-01,\n",
       "         2.01745152e-01,  1.70894595e-01, -3.01384248e-01,\n",
       "        -4.83104811e-01,  6.55306975e-02, -1.73597493e-01,\n",
       "        -5.13831717e-01, -5.98340072e-01, -1.20495215e-02,\n",
       "        -2.04077478e-01, -2.46336228e-01, -3.31615158e-01,\n",
       "        -5.14616461e-01, -5.93962791e-01, -9.15665757e-02,\n",
       "        -1.24276782e-01, -1.62608870e-01, -3.36341043e-01,\n",
       "        -5.02086193e-01, -5.08704206e-01, -5.70646359e-01,\n",
       "        -5.83686716e-01, -4.99891242e-01, -3.40770915e-01,\n",
       "        -2.72615643e-01, -1.04807406e-01, -1.37272637e-01,\n",
       "         2.12652736e-01,  2.34108563e-01,  1.02640277e-01,\n",
       "        -4.84083716e-01, -2.84163064e-01, -7.69250236e-02,\n",
       "        -3.47149050e-01, -8.03971730e-01, -3.76911636e-01,\n",
       "        -7.00694492e-02, -2.01052730e-01, -2.98734218e-01,\n",
       "        -4.20092530e-01, -6.18941648e-01, -6.85192522e-01,\n",
       "        -1.66175284e-01, -2.46408152e-01, -3.09627634e-01,\n",
       "        -4.61648561e-01, -5.32523974e-01, -5.91364207e-01,\n",
       "        -6.26236234e-01, -6.13285472e-01, -4.15727307e-01,\n",
       "        -2.73586973e-01, -4.10080501e-01, -5.02042382e-01,\n",
       "        -2.84564232e-01,  2.91632367e-01, -1.40951244e-02,\n",
       "        -2.03510248e-01, -7.53984550e-01, -8.02793743e-02,\n",
       "        -3.42447372e-02, -5.77467443e-01, -9.26994352e-01,\n",
       "        -1.50813429e-01, -8.82752664e-02, -1.36675977e-01,\n",
       "        -2.54098968e-01, -4.18881286e-01, -6.25951364e-01,\n",
       "        -6.38159063e-01, -1.93632466e-01, -2.49403116e-01,\n",
       "        -3.35299850e-01, -4.73042971e-01, -6.09223681e-01,\n",
       "        -6.56408440e-01, -7.55034169e-01, -7.19997030e-01,\n",
       "        -3.90366066e-01, -1.27784165e-01, -2.63326377e-01,\n",
       "        -4.20352918e-01, -1.16799287e-01,  4.02844104e-01,\n",
       "         3.34941268e-02, -5.88911801e-01, -6.44719444e-01,\n",
       "        -1.93742431e-02, -1.65025582e-01, -8.56163028e-01,\n",
       "        -4.88492191e-01, -1.35776437e-02, -8.70304730e-02,\n",
       "        -1.20614284e-01, -2.29440514e-01, -4.15044037e-01,\n",
       "        -5.40418538e-01, -6.28378928e-01, -2.20057285e-01,\n",
       "        -2.85667748e-01, -3.60960285e-01, -5.55569357e-01,\n",
       "        -6.77497251e-01, -6.96303519e-01, -9.97591162e-01,\n",
       "        -1.02386138e+00, -5.77382140e-01, -2.39367422e-01,\n",
       "        -9.99866202e-02,  2.26955362e-01,  5.75767102e-01,\n",
       "         5.93993013e-01,  4.83482733e-01,  5.38007305e-03,\n",
       "        -7.40653802e-02, -1.41812125e-01, -5.08869036e-01,\n",
       "        -9.33781010e-01, -1.92757056e-02,  4.43383931e-03,\n",
       "        -1.04746965e-01, -1.08547562e-01, -2.37525000e-01,\n",
       "        -4.14851356e-01, -5.66143808e-01, -6.36215301e-01,\n",
       "        -2.80692988e-01, -3.25016301e-01, -4.31550501e-01,\n",
       "        -5.71835561e-01, -7.19593681e-01, -7.22112043e-01,\n",
       "        -1.20744080e+00, -1.36122524e+00, -8.42218155e-01,\n",
       "        -1.72068362e-01, -4.57611001e-02,  9.81841745e-02,\n",
       "         6.60075164e-02,  2.68786939e-01,  4.96904016e-01,\n",
       "         4.01291468e-01,  2.62804880e-01, -2.94651610e-01,\n",
       "        -8.90988767e-01, -4.10736659e-01,  9.57087781e-02,\n",
       "         7.13243591e-02, -4.76612193e-02, -8.84466381e-02,\n",
       "        -2.61806622e-01, -4.30209578e-01, -5.32492450e-01,\n",
       "        -6.48800835e-01, -3.04668512e-01, -4.02942164e-01,\n",
       "        -4.93972094e-01, -6.29629882e-01, -7.43565204e-01,\n",
       "        -7.69234548e-01, -1.16250770e+00, -1.54417514e+00,\n",
       "        -1.47919055e+00, -5.71117992e-01, -2.02619250e-01,\n",
       "        -1.95319047e-01, -2.86519923e-01, -6.38513131e-02,\n",
       "        -1.17574712e-03,  1.41387391e-01,  5.06978822e-02,\n",
       "        -5.63551769e-01, -7.41094181e-01,  5.23365442e-02,\n",
       "         1.13249057e-01,  9.58757098e-02,  2.71586722e-03,\n",
       "        -7.90714595e-02, -2.75201587e-01, -4.32669740e-01,\n",
       "        -5.41085686e-01, -6.12969977e-01, -3.07856527e-01,\n",
       "        -3.76631283e-01, -4.88089510e-01, -6.59335584e-01,\n",
       "        -7.61276293e-01, -9.05212014e-01, -1.31649167e+00,\n",
       "        -1.73266682e+00, -1.78876583e+00, -1.09915183e+00,\n",
       "        -4.69765871e-01, -4.26906230e-01, -3.54649877e-01,\n",
       "        -2.79568997e-01, -1.57308867e-01,  1.18089937e-02,\n",
       "        -3.31270467e-01, -8.14895757e-01, -2.01317073e-01,\n",
       "         2.00508742e-01,  2.29253401e-01,  1.53819561e-01,\n",
       "         1.00212587e-04, -1.21911135e-01, -2.67564750e-01,\n",
       "        -3.87279406e-01, -5.19782425e-01, -5.23492575e-01,\n",
       "        -3.34238316e-01, -4.25699528e-01, -4.84032016e-01,\n",
       "        -6.30942830e-01, -7.37923291e-01, -8.49041486e-01,\n",
       "        -9.90965297e-01, -1.25338713e+00, -1.55572037e+00,\n",
       "        -1.30104898e+00, -6.21250478e-01, -4.39684642e-01,\n",
       "        -4.06446614e-01, -5.26888420e-02,  1.03418527e-01,\n",
       "        -7.48899131e-02, -6.04376897e-01, -7.08808731e-01,\n",
       "         1.88056611e-01,  2.29057964e-01,  2.66933864e-01,\n",
       "         1.57358495e-01, -4.46805133e-02, -1.91166668e-01,\n",
       "        -3.03678746e-01, -4.35017304e-01, -5.25919171e-01,\n",
       "        -4.66848022e-01, -3.36298782e-01, -4.09221531e-01,\n",
       "        -5.23842840e-01, -6.89558268e-01, -7.62932761e-01,\n",
       "        -8.34891697e-01, -8.97557528e-01, -1.00007036e+00,\n",
       "        -1.28859394e+00, -1.12025599e+00, -7.29293619e-01,\n",
       "        -5.73255002e-01, -6.18537448e-01, -3.72570218e-01,\n",
       "        -1.81096873e-01, -2.62799932e-01, -8.48166168e-01,\n",
       "        -2.61207940e-01,  3.22334094e-01,  2.91242515e-01,\n",
       "         2.65454700e-01,  1.52499275e-01, -4.15135775e-02,\n",
       "        -2.23371691e-01, -3.79953667e-01, -4.57135417e-01,\n",
       "        -5.29530478e-01, -4.97372841e-01, -2.99639189e-01,\n",
       "        -3.69102180e-01, -4.96071750e-01, -5.96136124e-01,\n",
       "        -8.06112098e-01, -9.15897231e-01, -9.64665691e-01,\n",
       "        -1.03111935e+00, -9.42226476e-01, -8.16882647e-01,\n",
       "        -8.04426793e-01, -6.57815427e-01, -7.13571137e-01,\n",
       "        -7.50836565e-01, -4.50511025e-01, -6.88427736e-01,\n",
       "        -7.55305961e-01,  1.57757315e-01,  3.64655855e-01,\n",
       "         3.74219635e-01,  2.60694440e-01,  5.00769965e-02,\n",
       "        -1.31280512e-01, -3.32078321e-01, -4.34783881e-01,\n",
       "        -5.26113806e-01, -4.52221456e-01, -4.13555529e-01,\n",
       "        -2.24322887e-01, -3.06295525e-01, -4.29529581e-01,\n",
       "        -5.23247269e-01, -8.54943247e-01, -8.46582393e-01,\n",
       "        -9.12176138e-01, -9.01452583e-01, -7.12477940e-01,\n",
       "        -6.15823567e-01, -8.87754871e-01, -8.19113238e-01,\n",
       "        -8.14548223e-01, -1.05352130e+00, -8.88058089e-01,\n",
       "        -1.11502063e+00, -2.72866068e-01,  2.65066061e-01,\n",
       "         3.24330585e-01,  3.55189266e-01,  1.61374048e-01,\n",
       "        -7.12008621e-02, -2.01929254e-01, -3.46614970e-01,\n",
       "        -4.08583522e-01, -4.73396513e-01, -4.28612534e-01,\n",
       "        -3.86389865e-01, -2.03857294e-01, -2.54787790e-01,\n",
       "        -3.13833988e-01, -4.64821251e-01, -7.02585204e-01,\n",
       "        -7.20639897e-01, -6.97395054e-01, -7.30203139e-01,\n",
       "        -7.51219000e-01, -7.70428379e-01, -1.03765194e+00,\n",
       "        -1.08376966e+00, -1.22125451e+00, -1.41253636e+00,\n",
       "        -1.38829347e+00, -7.69536342e-01,  2.19412092e-01,\n",
       "         3.14287413e-01,  3.98566032e-01,  3.12329347e-01,\n",
       "         5.12028089e-02, -1.03121516e-01, -2.33911915e-01,\n",
       "        -3.12844814e-01, -3.86061511e-01, -4.04877823e-01,\n",
       "        -3.62879848e-01, -3.41256873e-01, -1.27083277e-01,\n",
       "        -1.70517808e-01, -2.41360403e-01, -4.28372520e-01,\n",
       "        -5.90229253e-01, -5.53178012e-01, -6.42205423e-01,\n",
       "        -7.76082349e-01, -8.07442558e-01, -9.21154238e-01,\n",
       "        -1.11494643e+00, -1.40541915e+00, -1.59910527e+00,\n",
       "        -1.56783592e+00, -1.30229814e+00,  1.23947256e-01,\n",
       "         3.00098789e-01,  3.35701121e-01,  3.15776121e-01,\n",
       "         1.41085323e-01, -4.53689441e-02, -1.71084429e-01,\n",
       "        -2.66892581e-01, -3.32987799e-01, -3.91210053e-01,\n",
       "        -3.78531244e-01, -3.40979752e-01, -2.83575994e-01,\n",
       "        -8.32338488e-02, -1.19687049e-01, -2.02510229e-01,\n",
       "        -3.93692230e-01, -5.64574930e-01, -5.44175215e-01,\n",
       "        -6.91069255e-01, -8.58575262e-01, -9.05918373e-01,\n",
       "        -8.86457566e-01, -1.20132213e+00, -1.54201765e+00,\n",
       "        -1.59117867e+00, -1.69286817e+00, -5.91516971e-01,\n",
       "         3.55085054e-01,  2.98494728e-01,  2.91279159e-01,\n",
       "         2.42013802e-01,  2.95993883e-02, -7.78437161e-02,\n",
       "        -1.81606827e-01, -2.92652615e-01, -3.52928853e-01,\n",
       "        -3.52750634e-01, -3.44863461e-01, -3.06618143e-01,\n",
       "        -2.05641024e-01,  1.77088657e-03, -1.08069164e-01,\n",
       "        -1.58474288e-01, -4.01313520e-01, -7.42924439e-01,\n",
       "        -7.32318504e-01, -8.03650840e-01, -1.01530432e+00,\n",
       "        -1.07372025e+00, -1.14622521e+00, -1.42198939e+00,\n",
       "        -1.63924648e+00, -1.65282678e+00, -1.51378556e+00,\n",
       "         6.37876690e-02,  3.16762596e-01,  2.99000081e-01,\n",
       "         3.14425240e-01,  1.96007383e-01, -3.95972463e-03,\n",
       "        -1.34070848e-01, -2.39532064e-01, -3.03104736e-01,\n",
       "        -3.03274857e-01, -3.14135939e-01, -3.24343481e-01,\n",
       "        -2.63562555e-01, -1.78568640e-01,  4.68300356e-02,\n",
       "         5.36968762e-03, -1.10162054e-01, -2.81137093e-01,\n",
       "        -9.06203943e-01, -9.98982722e-01, -9.77478389e-01,\n",
       "        -1.12420199e+00, -1.22570538e+00, -1.37409391e+00,\n",
       "        -1.57919510e+00, -1.65785752e+00, -1.65191386e+00,\n",
       "        -9.00091331e-01,  2.79064445e-01,  3.23455593e-01,\n",
       "         3.60045152e-01,  2.98194415e-01,  1.64116542e-01,\n",
       "        -1.34157050e-02, -1.52190178e-01, -2.08095280e-01,\n",
       "        -2.54294122e-01, -2.70213116e-01, -2.55381735e-01,\n",
       "        -2.37861151e-01, -2.09161190e-01, -1.59682498e-01,\n",
       "         8.72148560e-02,  6.64622910e-02, -4.34478574e-02,\n",
       "        -6.74133450e-02, -6.78413215e-01, -1.09669055e+00,\n",
       "        -1.07277754e+00, -1.15579997e+00, -1.21909008e+00,\n",
       "        -1.36103466e+00, -1.46678940e+00, -1.48632099e+00,\n",
       "        -1.46647139e+00, -3.85307391e-01,  3.37113327e-01,\n",
       "         3.67505405e-01,  3.64863662e-01,  2.60996729e-01,\n",
       "         1.00194336e-01, -5.89118840e-02, -1.40390533e-01,\n",
       "        -1.68732471e-01, -2.23155812e-01, -2.04095333e-01,\n",
       "        -1.93881900e-01, -1.58505299e-01, -1.40247597e-01,\n",
       "        -9.32474481e-02]])"
      ]
     },
     "execution_count": 279,
     "metadata": {},
     "output_type": "execute_result"
    }
   ],
   "source": [
    "s_c=StandardScaler()\n",
    "training_x=s_c.fit_transform(training_x)\n",
    "testing_x=s_c.transform(testing_x)\n",
    "test_x=s_c.transform(i)\n",
    "test_x\n"
   ]
  },
  {
   "cell_type": "code",
   "execution_count": 140,
   "metadata": {},
   "outputs": [
    {
     "data": {
      "text/plain": [
       "<matplotlib.image.AxesImage at 0x27c003a1d30>"
      ]
     },
     "execution_count": 140,
     "metadata": {},
     "output_type": "execute_result"
    },
    {
     "data": {
      "image/png": "[encoded data removed]",
      "text/plain": [
       "<Figure size 432x288 with 1 Axes>"
      ]
     },
     "metadata": {},
     "output_type": "display_data"
    }
   ],
   "source": [
    "\n",
    "labels = training_y\n",
    "labels = to_categorical(labels)\n",
    "sample = train[1]\n",
    "plt.imshow(sample.reshape((28,28)))"
   ]
  },
  {
   "cell_type": "code",
   "execution_count": 133,
   "metadata": {},
   "outputs": [
    {
     "data": {
      "text/plain": [
       "array([[ 0.982769  ,  0.95318797,  0.94156332, ...,  0.65974146,\n",
       "         0.64942361,  0.6688047 ],\n",
       "       [ 0.95981481,  0.92934362,  0.89210265, ..., -1.87076241,\n",
       "        -1.77918784, -1.83717449],\n",
       "       [ 0.04164723,  0.02325832,  0.02654082, ...,  0.64458874,\n",
       "         0.6196247 ,  0.62484016],\n",
       "       ...,\n",
       "       [-0.66993264, -0.71591653, -0.71536932, ..., -1.946526  ,\n",
       "        -1.5854949 , -1.74924539],\n",
       "       [-0.18789466, -0.19134083, -0.22076256, ...,  0.28092352,\n",
       "         0.24713828,  0.17053983],\n",
       "       [ 0.89095224,  0.85781057,  0.84264197, ...,  0.81126864,\n",
       "         0.78351872,  0.6981144 ]])"
      ]
     },
     "execution_count": 133,
     "metadata": {},
     "output_type": "execute_result"
    }
   ],
   "source": [
    "training_x"
   ]
  },
  {
   "cell_type": "code",
   "execution_count": 134,
   "metadata": {},
   "outputs": [
    {
     "data": {
      "text/plain": [
       "array([[0., 0., 0., ..., 0., 0., 0.],\n",
       "       [0., 0., 0., ..., 0., 0., 0.],\n",
       "       [0., 0., 0., ..., 0., 0., 0.],\n",
       "       ...,\n",
       "       [0., 0., 0., ..., 0., 0., 0.],\n",
       "       [0., 0., 0., ..., 0., 0., 0.],\n",
       "       [0., 0., 0., ..., 0., 0., 0.]], dtype=float32)"
      ]
     },
     "execution_count": 134,
     "metadata": {},
     "output_type": "execute_result"
    }
   ],
   "source": [
    "labels"
   ]
  },
  {
   "cell_type": "code",
   "execution_count": null,
   "metadata": {},
   "outputs": [],
   "source": []
  },
  {
   "cell_type": "code",
   "execution_count": 135,
   "metadata": {},
   "outputs": [
    {
     "name": "stderr",
     "output_type": "stream",
     "text": [
      "c:\\users\\dell\\appdata\\local\\programs\\python\\python36\\lib\\site-packages\\ipykernel_launcher.py:3: UserWarning: Update your `Dense` call to the Keras 2 API: `Dense(1000, activation=\"relu\", kernel_initializer=\"uniform\")`\n",
      "  This is separate from the ipykernel package so we can avoid doing imports until\n",
      "c:\\users\\dell\\appdata\\local\\programs\\python\\python36\\lib\\site-packages\\ipykernel_launcher.py:4: UserWarning: Update your `Dense` call to the Keras 2 API: `Dense(1000, activation=\"relu\", kernel_initializer=\"uniform\")`\n",
      "  after removing the cwd from sys.path.\n",
      "c:\\users\\dell\\appdata\\local\\programs\\python\\python36\\lib\\site-packages\\ipykernel_launcher.py:5: UserWarning: Update your `Dense` call to the Keras 2 API: `Dense(100, activation=\"relu\", kernel_initializer=\"uniform\")`\n",
      "  \"\"\"\n"
     ]
    },
    {
     "name": "stdout",
     "output_type": "stream",
     "text": [
      "Train on 4015 samples, validate on 1722 samples\n",
      "Epoch 1/6\n",
      "4015/4015 [==============================] - 6s 2ms/step - loss: 0.9701 - acc: 0.7225 - val_loss: 0.3227 - val_acc: 0.8995\n",
      "Epoch 2/6\n",
      "4015/4015 [==============================] - 5s 1ms/step - loss: 0.1397 - acc: 0.9577 - val_loss: 0.1481 - val_acc: 0.9710\n",
      "Epoch 3/6\n",
      "4015/4015 [==============================] - 5s 1ms/step - loss: 0.0798 - acc: 0.9788 - val_loss: 0.0490 - val_acc: 0.9820\n",
      "Epoch 4/6\n",
      "4015/4015 [==============================] - 5s 1ms/step - loss: 0.0432 - acc: 0.9888 - val_loss: 0.2104 - val_acc: 0.9559\n",
      "Epoch 5/6\n",
      "4015/4015 [==============================] - 5s 1ms/step - loss: 0.1066 - acc: 0.9736 - val_loss: 0.0986 - val_acc: 0.9739\n",
      "Epoch 6/6\n",
      "4015/4015 [==============================] - 5s 1ms/step - loss: 0.0261 - acc: 0.9938 - val_loss: 9.0506e-04 - val_acc: 1.0000\n"
     ]
    }
   ],
   "source": [
    "model = Sequential()\n",
    "model.add(Dense(784, input_dim=784, activation='relu'))\n",
    "model.add(Dense(1000, init='uniform', activation='relu'))\n",
    "model.add(Dense(1000, init='uniform', activation='relu'))\n",
    "model.add(Dense(100, init='uniform', activation='relu'))\n",
    "model.add(Dense(25, activation='softmax'))\n",
    "# Compile model\n",
    "model.compile(loss='categorical_crossentropy', optimizer='adam', metrics=['accuracy'])\n",
    "h=model.fit(training_x, labels, validation_split=0.3, epochs=6,batch_size=50)"
   ]
  },
  {
   "cell_type": "code",
   "execution_count": 119,
   "metadata": {},
   "outputs": [],
   "source": [
    "from sklearn.metrics import accuracy_score\n",
    "from sklearn.metrics import confusion_matrix"
   ]
  },
  {
   "cell_type": "code",
   "execution_count": 120,
   "metadata": {},
   "outputs": [],
   "source": [
    "yhat_classes = model.predict_classes(testing_x, verbose=0)"
   ]
  },
  {
   "cell_type": "code",
   "execution_count": 121,
   "metadata": {},
   "outputs": [
    {
     "data": {
      "text/plain": [
       "array([13,  6, 19, ..., 19,  2, 12], dtype=int64)"
      ]
     },
     "execution_count": 121,
     "metadata": {},
     "output_type": "execute_result"
    }
   ],
   "source": [
    "yhat_classes "
   ]
  },
  {
   "cell_type": "code",
   "execution_count": 122,
   "metadata": {},
   "outputs": [
    {
     "data": {
      "text/plain": [
       "array([13,  6, 19, ..., 19,  2, 12], dtype=int64)"
      ]
     },
     "execution_count": 122,
     "metadata": {},
     "output_type": "execute_result"
    }
   ],
   "source": [
    "testing_y "
   ]
  },
  {
   "cell_type": "code",
   "execution_count": 136,
   "metadata": {},
   "outputs": [
    {
     "name": "stdout",
     "output_type": "stream",
     "text": [
      "Accuracy: 0.996516\n"
     ]
    }
   ],
   "source": [
    "accuracy = accuracy_score(testing_y, yhat_classes)\n",
    "print('Accuracy: %f' % accuracy)\n"
   ]
  },
  {
   "cell_type": "code",
   "execution_count": 124,
   "metadata": {},
   "outputs": [],
   "source": [
    "from sklearn.metrics import precision_recall_fscore_support"
   ]
  },
  {
   "cell_type": "code",
   "execution_count": 125,
   "metadata": {},
   "outputs": [
    {
     "data": {
      "text/plain": [
       "(array([1.        , 1.        , 1.        , 1.        , 1.        ,\n",
       "        1.        , 1.        , 0.95098039, 1.        , 1.        ,\n",
       "        1.        , 1.        , 1.        , 1.        , 1.        ,\n",
       "        1.        , 1.        , 1.        , 1.        , 1.        ,\n",
       "        1.        , 1.        , 1.        , 1.        ]),\n",
       " array([1.        , 1.        , 1.        , 1.        , 1.        ,\n",
       "        1.        , 0.92307692, 1.        , 1.        , 1.        ,\n",
       "        1.        , 1.        , 1.        , 1.        , 1.        ,\n",
       "        1.        , 1.        , 1.        , 1.        , 1.        ,\n",
       "        1.        , 1.        , 1.        , 1.        ]),\n",
       " array([1.        , 1.        , 1.        , 1.        , 1.        ,\n",
       "        1.        , 0.96      , 0.97487437, 1.        , 1.        ,\n",
       "        1.        , 1.        , 1.        , 1.        , 1.        ,\n",
       "        1.        , 1.        , 1.        , 1.        , 1.        ,\n",
       "        1.        , 1.        , 1.        , 1.        ]),\n",
       " array([65, 75, 67, 51, 97, 50, 65, 97, 59, 55, 38, 88, 57, 51, 69, 29, 26,\n",
       "        47, 52, 50, 72, 42, 62, 71], dtype=int64))"
      ]
     },
     "execution_count": 125,
     "metadata": {},
     "output_type": "execute_result"
    }
   ],
   "source": [
    " precision_recall_fscore_support(testing_y, yhat_classes, average=None)"
   ]
  },
  {
   "cell_type": "code",
   "execution_count": 137,
   "metadata": {},
   "outputs": [
    {
     "data": {
      "image/png": "[encoded data removed]",
      "text/plain": [
       "<Figure size 432x288 with 1 Axes>"
      ]
     },
     "metadata": {},
     "output_type": "display_data"
    }
   ],
   "source": [
    "plt.plot(h.history['acc'])\n",
    "plt.plot(h.history['val_acc'])\n",
    "plt.title('model accuracy')\n",
    "plt.ylabel('accuracy')\n",
    "plt.xlabel('epoch')\n",
    "plt.legend(['train', 'test'], loc='upper left')\n",
    "plt.show()"
   ]
  },
  {
   "cell_type": "code",
   "execution_count": 138,
   "metadata": {},
   "outputs": [
    {
     "data": {
      "image/png": "[encoded data removed]",
      "text/plain": [
       "<Figure size 432x288 with 1 Axes>"
      ]
     },
     "metadata": {},
     "output_type": "display_data"
    }
   ],
   "source": [
    "plt.plot(h.history['loss'])\n",
    "plt.plot(h.history['val_loss'])\n",
    "plt.title('model loss')\n",
    "plt.ylabel('loss')\n",
    "plt.xlabel('epoch')\n",
    "plt.legend(['train', 'test'], loc='upper left')\n",
    "plt.show()"
   ]
  },
  {
   "cell_type": "code",
   "execution_count": null,
   "metadata": {},
   "outputs": [],
   "source": []
  },
  {
   "cell_type": "code",
   "execution_count": 277,
   "metadata": {},
   "outputs": [
    {
     "data": {
      "text/plain": [
       "array([[167, 167, 169, 168, 167, 166, 165, 163, 163, 163, 164, 163, 166,\n",
       "        167, 167, 166, 167, 166, 163, 164, 162, 162, 163, 164, 165, 165,\n",
       "        167, 167, 167, 168, 169, 169, 169, 166, 164, 162, 162, 160, 163,\n",
       "        164, 165, 165, 165, 166, 166, 165, 168, 164, 160, 160, 161, 161,\n",
       "        162, 164, 165, 165, 166, 166, 167, 166, 166, 164, 162, 162, 161,\n",
       "        161, 159, 161, 161, 161, 163, 165, 164, 166, 160, 157, 160, 157,\n",
       "        160, 161, 163, 164, 164, 165, 165, 167, 167, 166, 165, 163, 161,\n",
       "        159, 159, 158, 157, 157, 146, 144, 158, 160, 162, 157, 141, 137,\n",
       "        156, 157, 159, 160, 162, 164, 164, 165, 164, 164, 164, 164, 163,\n",
       "        161, 158, 157, 156, 154, 153, 150, 127, 122, 155, 159, 162, 140,\n",
       "        124, 121, 155, 157, 157, 160, 161, 163, 163, 164, 165, 165, 165,\n",
       "        164, 163, 161, 158, 156, 156, 156, 155, 142, 120, 123, 156, 157,\n",
       "        157, 130, 115, 130, 155, 154, 151, 158, 161, 162, 163, 164, 164,\n",
       "        164, 164, 163, 161, 159, 157, 155, 154, 153, 153, 141, 123, 133,\n",
       "        157, 156, 150, 134, 115, 140, 147, 137, 132, 157, 160, 161, 163,\n",
       "        163, 164, 164, 164, 162, 161, 158, 156, 155, 153, 150, 150, 144,\n",
       "        133, 143, 154, 155, 144, 135, 121, 151, 133, 126, 127, 157, 160,\n",
       "        161, 162, 162, 164, 163, 163, 162, 162, 159, 156, 154, 152, 150,\n",
       "        147, 140, 134, 144, 152, 147, 140, 126, 135, 147, 127, 116, 136,\n",
       "        156, 158, 160, 163, 163, 162, 163, 164, 163, 161, 159, 156, 154,\n",
       "        151, 150, 143, 138, 132, 146, 150, 143, 135, 114, 145, 143, 129,\n",
       "        116, 149, 157, 158, 160, 162, 163, 161, 162, 162, 160, 159, 157,\n",
       "        155, 153, 150, 149, 146, 146, 134, 146, 148, 151, 132, 120, 148,\n",
       "        140, 125, 124, 156, 155, 159, 160, 161, 162, 160, 162, 163, 160,\n",
       "        157, 156, 153, 151, 149, 148, 141, 139, 131, 146, 144, 142, 119,\n",
       "        129, 140, 130, 110, 137, 155, 155, 157, 158, 159, 159, 158, 158,\n",
       "        158, 156, 157, 154, 153, 151, 152, 148, 129, 114, 120, 145, 128,\n",
       "        125, 104, 138, 142, 120, 104, 148, 155, 156, 156, 158, 158, 159,\n",
       "        158, 159, 158, 157, 155, 152, 149, 146, 151, 152, 131, 114, 126,\n",
       "        148, 130, 107, 108, 140, 136, 106, 126, 154, 154, 155, 156, 157,\n",
       "        159, 158, 158, 158, 158, 155, 153, 151, 139, 133, 142, 145, 139,\n",
       "        146, 160, 158, 153, 136, 137, 135, 118,  99, 148, 153, 152, 154,\n",
       "        155, 156, 157, 157, 156, 157, 156, 155, 151, 150, 130, 120, 131,\n",
       "        148, 142, 139, 135, 144, 157, 159, 157, 128,  98, 124, 152, 153,\n",
       "        154, 154, 154, 156, 157, 156, 155, 154, 154, 153, 150, 148, 133,\n",
       "        113, 104, 131, 134, 125, 119, 131, 136, 148, 147, 115, 107, 148,\n",
       "        149, 151, 153, 154, 154, 155, 157, 156, 155, 155, 154, 152, 149,\n",
       "        141, 126, 106,  92, 109, 124, 116, 118, 124, 131, 143, 128, 101,\n",
       "        134, 153, 151, 151, 151, 153, 155, 157, 156, 156, 153, 152, 153,\n",
       "        152, 149, 142, 138, 125, 102, 101, 120, 119, 118, 139, 147, 140,\n",
       "        116, 109, 151, 151, 151, 150, 150, 151, 154, 154, 154, 156, 152,\n",
       "        151, 150, 148, 146, 142, 141, 135, 113, 110, 118, 116, 111, 125,\n",
       "        135, 133, 102, 130, 153, 150, 149, 151, 152, 152, 152, 153, 153,\n",
       "        153, 151, 150, 148, 148, 139, 134, 136, 132, 130, 126, 117, 117,\n",
       "        111, 109, 125, 113, 106, 148, 153, 151, 149, 150, 151, 150, 150,\n",
       "        150, 154, 154, 151, 149, 147, 145, 132, 134, 133, 133, 138, 134,\n",
       "        113, 112, 108,  96, 103,  90, 130, 152, 150, 150, 149, 149, 150,\n",
       "        150, 151, 151, 152, 153, 149, 148, 148, 143, 132, 135, 138, 135,\n",
       "        131, 125, 108, 101,  89,  78,  77, 105, 152, 151, 153, 151, 149,\n",
       "        149, 149, 151, 151, 151, 152, 153, 150, 149, 148, 141, 132, 138,\n",
       "        136, 130, 126, 118, 104,  85,  71,  68,  79, 146, 151, 151, 150,\n",
       "        147, 146, 146, 148, 149, 150, 150, 151, 153, 149, 148, 147, 139,\n",
       "        131, 135, 130, 122, 118, 115,  95,  74,  67,  59, 109, 153, 148,\n",
       "        149, 148, 144, 145, 147, 147, 147, 149, 150, 150, 153, 150, 145,\n",
       "        146, 135, 118, 122, 119, 107, 101,  96,  76,  63,  60,  63, 137,\n",
       "        148, 147, 150, 147, 143, 143, 144, 146, 148, 148, 148, 148, 150,\n",
       "        147, 146, 143, 136, 104, 101, 103,  94,  86,  75,  63,  58,  53,\n",
       "         88, 146, 147, 149, 148, 147, 143, 142, 144, 146, 147, 147, 147,\n",
       "        147, 148, 145, 145, 142, 143, 111,  90,  90,  85,  81,  69,  62,\n",
       "         59,  56, 112, 148, 147, 148, 145, 144, 141, 141, 144, 144, 146,\n",
       "        145, 147, 147, 148]], dtype=uint8)"
      ]
     },
     "execution_count": 277,
     "metadata": {},
     "output_type": "execute_result"
    }
   ],
   "source": [
    "i = np.reshape(img,(1,784))\n",
    "i"
   ]
  },
  {
   "cell_type": "code",
   "execution_count": null,
   "metadata": {},
   "outputs": [],
   "source": []
  },
  {
   "cell_type": "code",
   "execution_count": null,
   "metadata": {},
   "outputs": [],
   "source": []
  },
  {
   "cell_type": "code",
   "execution_count": 142,
   "metadata": {},
   "outputs": [],
   "source": [
    "import cv2"
   ]
  },
  {
   "cell_type": "code",
   "execution_count": 276,
   "metadata": {},
   "outputs": [
    {
     "data": {
      "text/plain": [
       "<matplotlib.image.AxesImage at 0x27c108ff518>"
      ]
     },
     "execution_count": 276,
     "metadata": {},
     "output_type": "execute_result"
    },
    {
     "data": {
      "image/png": "[encoded data removed]",
      "text/plain": [
       "<Figure size 432x288 with 1 Axes>"
      ]
     },
     "metadata": {},
     "output_type": "display_data"
    }
   ],
   "source": [
    "im = cv2.imread(\"55.png\")\n",
    "img = cv2.resize(im,(28,28))\n",
    "img = cv2.cvtColor(img,cv2.COLOR_BGR2GRAY)\n",
    "plt.imshow(img)"
   ]
  },
  {
   "cell_type": "code",
   "execution_count": 265,
   "metadata": {},
   "outputs": [
    {
     "name": "stderr",
     "output_type": "stream",
     "text": [
      "c:\\users\\dell\\appdata\\local\\programs\\python\\python36\\lib\\site-packages\\sklearn\\utils\\validation.py:475: DataConversionWarning: Data with input dtype uint8 was converted to float64 by StandardScaler.\n",
      "  warnings.warn(msg, DataConversionWarning)\n"
     ]
    },
    {
     "data": {
      "text/plain": [
       "array([[0., 0., 0., 0., 0., 0., 0., 0., 0., 0., 0., 0., 0., 0., 0., 0.,\n",
       "        0., 0., 0., 0., 0., 0., 0., 0., 0., 0., 0., 0., 0., 0., 0., 0.,\n",
       "        0., 0., 0., 0., 0., 0., 0., 0., 0., 0., 0., 0., 0., 0., 0., 0.,\n",
       "        0., 0., 0., 0., 0., 0., 0., 0., 0., 0., 0., 0., 0., 0., 0., 0.,\n",
       "        0., 0., 0., 0., 0., 0., 0., 0., 0., 0., 0., 0., 0., 0., 0., 0.,\n",
       "        0., 0., 0., 0., 0., 0., 0., 0., 0., 0., 0., 0., 0., 0., 0., 0.,\n",
       "        0., 0., 0., 0., 0., 0., 0., 0., 0., 0., 0., 0., 0., 0., 0., 0.,\n",
       "        0., 0., 0., 0., 0., 0., 0., 0., 0., 0., 0., 0., 0., 0., 0., 0.,\n",
       "        0., 0., 0., 0., 0., 0., 0., 0., 0., 0., 0., 0., 0., 0., 0., 0.,\n",
       "        0., 0., 0., 0., 0., 0., 0., 0., 0., 0., 0., 0., 0., 0., 0., 0.,\n",
       "        0., 0., 0., 0., 0., 0., 0., 0., 0., 0., 0., 0., 0., 0., 0., 0.,\n",
       "        0., 0., 0., 0., 0., 0., 0., 0., 0., 0., 0., 0., 0., 0., 0., 0.,\n",
       "        0., 0., 0., 0., 0., 0., 0., 0., 0., 0., 0., 0., 0., 0., 0., 0.,\n",
       "        0., 0., 0., 0., 0., 0., 0., 0., 0., 0., 0., 0., 0., 0., 0., 0.,\n",
       "        0., 0., 0., 0., 0., 0., 0., 0., 0., 0., 0., 0., 0., 0., 0., 0.,\n",
       "        0., 0., 0., 0., 0., 0., 0., 0., 0., 0., 0., 0., 0., 0., 0., 0.,\n",
       "        0., 0., 0., 0., 0., 0., 0., 0., 0., 0., 0., 0., 0., 0., 0., 0.,\n",
       "        0., 0., 0., 0., 0., 0., 0., 0., 0., 0., 0., 0., 0., 0., 0., 0.,\n",
       "        0., 0., 0., 0., 0., 0., 0., 0., 0., 0., 0., 0., 0., 0., 0., 0.,\n",
       "        0., 0., 0., 0., 0., 0., 0., 0., 0., 0., 0., 0., 0., 0., 0., 0.,\n",
       "        0., 0., 0., 0., 0., 0., 0., 0., 0., 0., 0., 0., 0., 0., 0., 0.,\n",
       "        0., 0., 0., 0., 0., 0., 0., 0., 0., 0., 0., 0., 0., 0., 0., 0.,\n",
       "        0., 0., 0., 0., 0., 0., 0., 0., 0., 0., 0., 0., 0., 0., 0., 0.,\n",
       "        0., 0., 0., 0., 0., 0., 0., 0., 0., 0., 0., 0., 0., 0., 0., 0.,\n",
       "        0., 0., 0., 0., 0., 0., 0., 0., 0., 0., 0., 0., 0., 0., 0., 0.,\n",
       "        0., 0., 0., 0., 0., 0., 0., 0., 0., 0., 0., 0., 0., 0., 0., 0.,\n",
       "        0., 0., 0., 0., 0., 0., 0., 0., 0., 0., 0., 0., 0., 0., 0., 0.,\n",
       "        0., 0., 0., 0., 0., 0., 0., 0., 0., 0., 0., 0., 0., 0., 0., 0.,\n",
       "        0., 0., 0., 0., 0., 0., 0., 0., 0., 0., 0., 0., 0., 0., 0., 0.,\n",
       "        0., 0., 0., 0., 0., 0., 0., 0., 0., 0., 0., 0., 0., 0., 0., 0.,\n",
       "        0., 0., 0., 0., 0., 0., 0., 0., 0., 0., 0., 0., 0., 0., 0., 0.,\n",
       "        0., 0., 0., 0., 0., 0., 0., 0., 0., 0., 0., 0., 0., 0., 0., 0.,\n",
       "        0., 0., 0., 0., 0., 0., 0., 0., 0., 0., 0., 0., 0., 0., 0., 0.,\n",
       "        0., 0., 0., 0., 0., 0., 0., 0., 0., 0., 0., 0., 0., 0., 0., 0.,\n",
       "        0., 0., 0., 0., 0., 0., 0., 0., 0., 0., 0., 0., 0., 0., 0., 0.,\n",
       "        0., 0., 0., 0., 0., 0., 0., 0., 0., 0., 0., 0., 0., 0., 0., 0.,\n",
       "        0., 0., 0., 0., 0., 0., 0., 0., 0., 0., 0., 0., 0., 0., 0., 0.,\n",
       "        0., 0., 0., 0., 0., 0., 0., 0., 0., 0., 0., 0., 0., 0., 0., 0.,\n",
       "        0., 0., 0., 0., 0., 0., 0., 0., 0., 0., 0., 0., 0., 0., 0., 0.,\n",
       "        0., 0., 0., 0., 0., 0., 0., 0., 0., 0., 0., 0., 0., 0., 0., 0.,\n",
       "        0., 0., 0., 0., 0., 0., 0., 0., 0., 0., 0., 0., 0., 0., 0., 0.,\n",
       "        0., 0., 0., 0., 0., 0., 0., 0., 0., 0., 0., 0., 0., 0., 0., 0.,\n",
       "        0., 0., 0., 0., 0., 0., 0., 0., 0., 0., 0., 0., 0., 0., 0., 0.,\n",
       "        0., 0., 0., 0., 0., 0., 0., 0., 0., 0., 0., 0., 0., 0., 0., 0.,\n",
       "        0., 0., 0., 0., 0., 0., 0., 0., 0., 0., 0., 0., 0., 0., 0., 0.,\n",
       "        0., 0., 0., 0., 0., 0., 0., 0., 0., 0., 0., 0., 0., 0., 0., 0.,\n",
       "        0., 0., 0., 0., 0., 0., 0., 0., 0., 0., 0., 0., 0., 0., 0., 0.,\n",
       "        0., 0., 0., 0., 0., 0., 0., 0., 0., 0., 0., 0., 0., 0., 0., 0.,\n",
       "        0., 0., 0., 0., 0., 0., 0., 0., 0., 0., 0., 0., 0., 0., 0., 0.]])"
      ]
     },
     "execution_count": 265,
     "metadata": {},
     "output_type": "execute_result"
    }
   ],
   "source": [
    "s_c=StandardScaler()\n",
    "test_x=s_c.fit_transform(i)\n",
    "\n",
    "test_x\n"
   ]
  },
  {
   "cell_type": "code",
   "execution_count": 280,
   "metadata": {},
   "outputs": [],
   "source": [
    " test = np.reshape(test_x,(1,784))"
   ]
  },
  {
   "cell_type": "code",
   "execution_count": 281,
   "metadata": {},
   "outputs": [],
   "source": [
    "classes = model.predict_classes(test, verbose=0)\n",
    "\n",
    "#accuracy = accuracy_score(testing_y, yhat_classes)\n",
    "#print('Accuracy: %f' % accuracy)\n"
   ]
  },
  {
   "cell_type": "code",
   "execution_count": 282,
   "metadata": {},
   "outputs": [
    {
     "data": {
      "text/plain": [
       "array([15], dtype=int64)"
      ]
     },
     "execution_count": 282,
     "metadata": {},
     "output_type": "execute_result"
    }
   ],
   "source": [
    "classes"
   ]
  },
  {
   "cell_type": "code",
   "execution_count": 258,
   "metadata": {},
   "outputs": [
    {
     "data": {
      "text/plain": [
       "array([[ 2.71189124e-01,  2.14013121e-01,  2.49113862e-01,\n",
       "         1.97346783e-01,  1.66225543e-01,  1.27632461e-01,\n",
       "         8.73789695e-02,  5.00066789e-02,  2.38484861e-02,\n",
       "        -2.85697255e-02, -1.06785114e-01, -2.75560198e-01,\n",
       "        -3.73831166e-01, -3.96083682e-01, -3.05870247e-01,\n",
       "        -2.68690752e-01, -1.78511875e-01, -1.81991588e-01,\n",
       "        -1.46060648e-01, -6.28670114e-02, -9.44680587e-02,\n",
       "        -9.79261204e-02, -4.84816505e-02, -8.51429083e-02,\n",
       "         3.00382045e-02,  1.62035290e-01,  1.66035324e-01,\n",
       "         1.97443273e-01,  2.07055663e-01,  1.69974119e-01,\n",
       "         1.53705486e-01,  1.52455559e-01,  1.19335973e-01,\n",
       "         1.03348129e-01,  6.88800278e-02,  5.93092847e-04,\n",
       "        -3.34071205e-02, -1.15816511e-01, -1.81826510e-01,\n",
       "        -3.79480425e-01, -1.29777629e+00, -1.41607346e+00,\n",
       "        -9.99971596e-01, -3.64036399e-01, -2.76598629e-01,\n",
       "        -2.06675029e-01, -1.98346461e-01, -1.17005947e-01,\n",
       "        -1.49478782e-01, -1.52440341e-01, -1.49366723e-01,\n",
       "        -1.47020979e-01, -5.94739296e-02,  6.05055987e-02,\n",
       "         1.38582958e-01,  1.78025051e-01,  1.64201246e-01,\n",
       "         1.02418879e-01,  8.05871585e-02,  7.65024438e-02,\n",
       "         3.92926004e-02, -5.61578311e-03, -3.28657200e-02,\n",
       "        -4.92905806e-02, -1.19479123e-01, -1.54858630e-01,\n",
       "        -2.54724126e-01, -2.90985082e-01, -2.03139437e+00,\n",
       "        -1.85841597e+00, -1.74164518e+00, -2.65661006e-01,\n",
       "        -1.63300683e-01, -7.08545983e-02, -7.16788299e-02,\n",
       "        -2.87889578e-01, -1.37721210e+00, -1.50249028e+00,\n",
       "        -1.33101582e-01, -1.70526723e-01, -1.44287038e-01,\n",
       "        -2.83200029e-02,  5.11981143e-02,  1.05620965e-01,\n",
       "         1.24522190e-01,  6.18085905e-02,  1.03383533e-02,\n",
       "         5.34020117e-02,  1.66499085e-02, -5.17845627e-02,\n",
       "        -5.53854137e-02, -1.26268756e-01, -1.78461450e-01,\n",
       "        -2.19728988e-01, -2.56391904e-01, -3.99035082e-01,\n",
       "        -1.84979346e+00, -1.65798216e+00, -1.85373582e+00,\n",
       "        -3.37622531e-02, -2.43285862e-02,  5.42469536e-02,\n",
       "         7.06987099e-02, -1.08992601e+00, -1.33248370e+00,\n",
       "        -1.78420604e+00, -2.14784011e-01, -1.64082300e-01,\n",
       "        -1.08274650e-01, -1.11687325e-03,  8.78534714e-03,\n",
       "         3.95477704e-02,  6.39548280e-02,  2.08131085e-02,\n",
       "        -5.16303247e-02, -8.32329099e-02, -1.31280376e-01,\n",
       "        -1.56324905e-01, -1.64033695e-01, -2.13501520e-01,\n",
       "        -2.92997493e-01, -3.57953697e-01, -4.23854458e-01,\n",
       "        -4.90142612e-01, -1.62898139e+00, -1.62845709e+00,\n",
       "        -1.63591411e+00, -9.07004189e-02,  1.68641444e-02,\n",
       "         1.18631703e-01,  1.70893960e-01, -9.67848270e-01,\n",
       "        -1.02608008e+00, -1.45822733e+00, -6.96128651e-02,\n",
       "        -1.36266695e-01, -1.20290730e-01, -1.01665222e-01,\n",
       "        -2.62906159e-02, -2.19454771e-03,  7.64253220e-03,\n",
       "        -4.02427699e-02, -8.69078678e-02, -1.26290100e-01,\n",
       "        -2.00254623e-01, -2.63652001e-01, -3.13747531e-01,\n",
       "        -3.60648124e-01, -4.33724998e-01, -4.62006438e-01,\n",
       "        -4.91522070e-01, -5.79234103e-01, -1.23257714e+00,\n",
       "        -1.04755415e+00, -1.01090264e+00, -8.98875161e-02,\n",
       "         2.96464882e-02,  1.16081405e-01,  7.52578542e-02,\n",
       "        -9.27005681e-01, -9.05105370e-01, -7.31323187e-01,\n",
       "         8.41579753e-02, -5.90987601e-02, -1.02331405e-01,\n",
       "        -8.29953638e-02, -2.08271514e-02,  3.93984537e-03,\n",
       "        -2.94246602e-02, -7.61053943e-02, -1.23560664e-01,\n",
       "        -2.49364312e-01, -2.63915993e-01, -3.15965825e-01,\n",
       "        -3.05821261e-01, -4.07627109e-01, -4.71879819e-01,\n",
       "        -4.98561614e-01, -4.97316212e-01, -5.90621994e-01,\n",
       "        -1.09019450e+00, -9.23357920e-01, -8.05204315e-01,\n",
       "        -2.04922725e-01, -2.23631788e-02,  4.29631414e-02,\n",
       "        -2.23874121e-01, -6.48615938e-01, -8.90780476e-01,\n",
       "        -3.22476246e-02,  1.28593844e-01,  8.47655200e-03,\n",
       "        -1.65272448e-02, -8.52206168e-02, -8.31225462e-02,\n",
       "        -5.87884313e-02, -6.10870828e-02, -1.30861631e-01,\n",
       "        -2.24804529e-01, -2.86976013e-01, -3.44252413e-01,\n",
       "        -3.90937665e-01, -3.87851606e-01, -4.53528029e-01,\n",
       "        -4.82553779e-01, -4.86831821e-01, -4.23411883e-01,\n",
       "        -4.57224187e-01, -9.72286251e-01, -8.83492604e-01,\n",
       "        -7.20965623e-01, -4.04430112e-01, -7.22821779e-02,\n",
       "        -4.64218846e-02, -5.28226236e-01, -5.06916336e-01,\n",
       "        -9.53225944e-01,  2.37183708e-01,  1.71311844e-01,\n",
       "         4.81658047e-02,  4.31899328e-04, -1.38837260e-01,\n",
       "        -1.02770977e-01, -1.27533570e-01, -1.10508836e-01,\n",
       "        -2.08575275e-01, -2.80390236e-01, -3.52507691e-01,\n",
       "        -4.09190711e-01, -4.33603110e-01, -4.94493059e-01,\n",
       "        -5.20672184e-01, -4.95355810e-01, -3.71046610e-01,\n",
       "        -3.44200029e-01, -3.67682711e-01, -8.15125112e-01,\n",
       "        -8.66655292e-01, -6.18075594e-01, -5.95306874e-01,\n",
       "        -7.47736185e-02, -1.38636144e-01, -6.46040156e-01,\n",
       "        -5.57347007e-01, -1.16901526e+00,  2.87261674e-01,\n",
       "         1.65682359e-01,  9.16847012e-02,  2.25949689e-02,\n",
       "        -8.50860813e-02, -1.86787101e-01, -1.74682290e-01,\n",
       "        -1.38739376e-01, -2.40293172e-01, -3.31447448e-01,\n",
       "        -4.11076728e-01, -5.15915691e-01, -4.99769623e-01,\n",
       "        -5.12649216e-01, -5.45196794e-01, -4.65336144e-01,\n",
       "        -3.80365560e-01, -2.57549391e-01, -2.74997992e-01,\n",
       "        -5.55763224e-01, -4.53205904e-01, -4.07953285e-01,\n",
       "        -8.93683834e-01, -1.89907871e-01, -2.94612842e-01,\n",
       "        -4.47707344e-01, -7.21782561e-01, -1.57071318e+00,\n",
       "         2.92868853e-01,  1.55936273e-01,  4.10683545e-02,\n",
       "        -4.00933113e-03, -6.41059939e-02, -1.70497875e-01,\n",
       "        -2.05791000e-01, -2.56474044e-01, -3.12440844e-01,\n",
       "        -3.81354054e-01, -4.91904716e-01, -6.18634427e-01,\n",
       "        -5.59141779e-01, -5.18242620e-01, -5.57075801e-01,\n",
       "        -4.84251940e-01, -3.41303447e-01, -2.57907149e-01,\n",
       "        -2.06567228e-01, -4.86413549e-01, -4.02451924e-01,\n",
       "        -2.22318821e-01, -4.21556722e-01, -8.93369673e-01,\n",
       "        -4.62157879e-01, -4.18344012e-01, -8.23900663e-01,\n",
       "        -1.33303805e+00,  1.73287026e-01,  1.35840678e-01,\n",
       "         2.08425669e-03, -1.36290091e-02, -8.69771803e-02,\n",
       "        -2.06118385e-01, -2.64920252e-01, -2.68523061e-01,\n",
       "        -3.99734310e-01, -4.45809686e-01, -5.33706073e-01,\n",
       "        -6.29358090e-01, -6.51707548e-01, -6.18510305e-01,\n",
       "        -6.56721286e-01, -7.31873126e-01, -6.06625056e-01,\n",
       "        -4.36722086e-01, -2.02879514e-01, -4.23315467e-01,\n",
       "        -5.47950910e-01, -1.52173046e-01, -7.61823274e-01,\n",
       "        -1.00897679e+00, -7.57939320e-01, -5.87238230e-01,\n",
       "        -8.86814572e-01, -1.00399800e+00,  6.85821653e-02,\n",
       "         7.89807659e-02, -2.07009964e-02, -8.89107350e-02,\n",
       "        -1.48111784e-01, -2.79640797e-01, -3.28584515e-01,\n",
       "        -3.65176314e-01, -4.52638978e-01, -4.97547259e-01,\n",
       "        -5.84936792e-01, -7.34685486e-01, -7.10712158e-01,\n",
       "        -6.99935015e-01, -6.87711032e-01, -8.79393152e-01,\n",
       "        -5.11810540e-01, -6.14126663e-01, -6.78871797e-01,\n",
       "        -1.50431800e-01, -2.89532986e-01, -3.19394881e-01,\n",
       "        -9.41939247e-01, -1.58715837e+00, -9.82832380e-01,\n",
       "        -6.52175315e-01, -9.86612668e-01, -8.28748850e-01,\n",
       "         7.74430721e-02,  3.72923694e-02,  1.39943835e-02,\n",
       "        -5.74048358e-02, -1.75810236e-01, -2.72845860e-01,\n",
       "        -2.72213292e-01, -4.36484068e-01, -4.54337010e-01,\n",
       "        -5.22426506e-01, -6.71034674e-01, -7.85593276e-01,\n",
       "        -7.51995998e-01, -7.79457538e-01, -9.41001516e-01,\n",
       "        -9.34916108e-01, -5.90412546e-01, -1.04035725e+00,\n",
       "        -6.55237957e-01, -4.55685396e-01, -3.69995768e-01,\n",
       "        -2.15090356e-01, -7.86170452e-01, -1.44716714e+00,\n",
       "        -3.03645426e-01, -6.30012327e-01, -1.11084353e+00,\n",
       "        -3.50873843e-01,  6.59272729e-02,  1.54897158e-02,\n",
       "         3.79867588e-03, -1.86300994e-02, -1.56919213e-01,\n",
       "        -2.84997173e-01, -3.09947973e-01, -4.39834916e-01,\n",
       "        -4.88937774e-01, -5.71593540e-01, -7.28855492e-01,\n",
       "        -8.27307492e-01, -8.13564804e-01, -9.02346893e-01,\n",
       "        -1.23904331e+00, -1.04173378e+00, -7.53701307e-01,\n",
       "        -1.65592669e+00, -1.42316465e+00, -2.79988252e-01,\n",
       "        -1.75248051e-01, -1.67417061e-01, -7.80763118e-01,\n",
       "        -1.15022489e+00, -2.34658559e-01, -4.32086645e-01,\n",
       "        -1.01127360e+00,  9.93562163e-02,  1.23020954e-01,\n",
       "         7.71030082e-02,  4.69618306e-02, -5.09756354e-02,\n",
       "        -1.70271947e-01, -2.69164196e-01, -3.03189098e-01,\n",
       "        -5.00366094e-01, -5.27179495e-01, -5.95484746e-01,\n",
       "        -7.43411010e-01, -8.41117470e-01, -8.83472947e-01,\n",
       "        -9.48713739e-01, -1.17153233e+00, -1.32116655e+00,\n",
       "        -8.64623724e-01, -1.79807079e+00, -1.12918357e+00,\n",
       "        -4.53067407e-01,  5.04308544e-02, -1.81550731e-03,\n",
       "        -3.63011908e-01, -9.33777451e-01, -4.04789604e-01,\n",
       "        -4.73838918e-01, -1.07604812e+00,  2.15395168e-01,\n",
       "         1.48271912e-01,  7.02229863e-02,  2.44886752e-02,\n",
       "        -1.20352075e-01, -2.53999224e-01, -2.76504874e-01,\n",
       "        -3.25229076e-01, -5.01013316e-01, -5.38101735e-01,\n",
       "        -6.57138336e-01, -7.74680142e-01, -8.86935291e-01,\n",
       "        -9.28333928e-01, -1.32724644e+00, -1.42689079e+00,\n",
       "        -1.30348137e+00, -7.15436483e-01, -1.37489299e+00,\n",
       "        -9.93826401e-01, -1.09753277e+00,  9.04759219e-02,\n",
       "         1.73044206e-02, -2.11458363e-01, -7.10699369e-01,\n",
       "        -2.01585983e-01, -7.41094181e-01, -1.05139630e+00,\n",
       "         2.12459575e-01,  1.89210222e-01,  9.63512654e-02,\n",
       "         8.79919937e-02, -1.38109440e-01, -2.63331304e-01,\n",
       "        -3.34719331e-01, -3.51453746e-01, -5.25274468e-01,\n",
       "        -5.76473056e-01, -6.49341827e-01, -8.27875263e-01,\n",
       "        -9.49416602e-01, -9.71922659e-01, -1.52477023e+00,\n",
       "        -1.35861678e+00, -1.52431720e+00, -9.53723996e-01,\n",
       "        -1.59266026e+00, -1.34249566e+00, -1.09880805e+00,\n",
       "        -3.96815702e-02, -1.02220196e-01, -2.88117920e-01,\n",
       "        -8.15469381e-01, -3.09989101e-01, -4.84255839e-01,\n",
       "        -1.02565401e+00,  2.88316050e-01,  2.27013508e-01,\n",
       "         1.25863878e-01, -3.09613065e-02, -1.90257187e-01,\n",
       "        -2.83739475e-01, -3.21479466e-01, -2.80253173e-01,\n",
       "        -5.48324286e-01, -6.00435300e-01, -7.09581020e-01,\n",
       "        -8.66583211e-01, -9.91469791e-01, -9.36034405e-01,\n",
       "        -1.55689917e+00, -1.50498952e+00, -2.37214430e+00,\n",
       "        -2.17353015e+00, -1.79847317e+00, -1.59566499e+00,\n",
       "        -1.53091370e-01, -8.96328517e-02, -6.11313729e-02,\n",
       "        -3.77142689e-01, -9.01655609e-01, -7.46486729e-01,\n",
       "        -6.83351561e-01, -8.62310885e-01,  2.66933864e-01,\n",
       "         2.11797721e-01,  6.05821401e-02, -8.31257680e-02,\n",
       "        -2.08366914e-01, -3.16129429e-01, -2.96137665e-01,\n",
       "        -2.38380234e-01, -5.45639420e-01, -5.99584478e-01,\n",
       "        -7.01674382e-01, -8.50453328e-01, -9.42706255e-01,\n",
       "        -9.86798508e-01, -1.59230178e+00, -1.67713536e+00,\n",
       "        -1.64394111e+00, -2.22324780e+00, -2.14868606e+00,\n",
       "        -1.68389378e-01, -1.41750113e-01, -1.26687985e-01,\n",
       "        -2.54784078e-01, -5.31105975e-01, -1.05255296e+00,\n",
       "        -8.73970831e-01, -7.02465244e-01, -4.91324253e-01,\n",
       "         3.03558023e-01,  2.05861309e-01,  4.38312924e-02,\n",
       "        -1.33942580e-01, -2.86583802e-01, -3.20743337e-01,\n",
       "        -2.82752729e-01, -2.34040569e-01, -5.04249084e-01,\n",
       "        -5.34601195e-01, -6.23350033e-01, -7.94768661e-01,\n",
       "        -8.69849299e-01, -9.15897231e-01, -1.07583212e+00,\n",
       "        -2.00843427e+00, -1.56014280e+00, -1.43493930e+00,\n",
       "        -1.49709697e+00, -3.70061931e-01, -2.97143874e-01,\n",
       "        -2.40895649e-01, -5.27153675e-01, -8.73253740e-01,\n",
       "        -1.22924539e+00, -9.97163524e-01, -8.74896942e-01,\n",
       "        -1.21917077e-01,  2.97208655e-01,  1.01461673e-01,\n",
       "        -4.54272533e-02, -2.41800478e-01, -3.24109750e-01,\n",
       "        -3.50857942e-01, -2.39247185e-01, -2.04458403e-01,\n",
       "        -4.19737254e-01, -4.64950012e-01, -5.72316184e-01,\n",
       "        -6.65712740e-01, -8.14110328e-01, -8.67005000e-01,\n",
       "        -9.33439270e-01, -1.88995160e+00, -1.26343773e+00,\n",
       "        -7.99368757e-01, -9.88763754e-01, -5.30237018e-01,\n",
       "        -4.93578172e-01, -3.23428653e-01, -6.52207324e-01,\n",
       "        -9.60529636e-01, -1.40047907e+00, -1.40947908e+00,\n",
       "        -1.28692064e+00,  8.04403915e-02,  1.97005835e-01,\n",
       "         1.37044270e-02, -1.32922501e-01, -2.74947835e-01,\n",
       "        -3.53961210e-01, -3.59043848e-01, -2.43251030e-01,\n",
       "        -1.83599615e-01, -4.13347966e-01, -4.65112364e-01,\n",
       "        -4.88953842e-01, -5.62370325e-01, -6.64282828e-01,\n",
       "        -7.80167214e-01, -8.82419840e-01, -1.38695203e+00,\n",
       "        -1.78450711e+00, -1.70195833e+00, -9.14671552e-01,\n",
       "        -6.26334270e-01, -5.42569072e-01, -5.03746432e-01,\n",
       "        -7.98137766e-01, -1.08567875e+00, -1.45796727e+00,\n",
       "        -1.51692956e+00, -1.44446405e+00,  2.04337696e-01,\n",
       "         5.12028089e-02, -3.69220435e-02, -1.65006373e-01,\n",
       "        -2.78148118e-01, -3.50520373e-01, -3.32904840e-01,\n",
       "        -2.21265190e-01, -1.65515802e-01, -3.85798069e-01,\n",
       "        -4.12744554e-01, -4.25687639e-01, -4.85110188e-01,\n",
       "        -5.53929549e-01, -6.66172509e-01, -8.78948413e-01,\n",
       "        -1.21457793e+00, -1.82482415e+00, -2.01159397e+00,\n",
       "        -9.71622433e-01, -8.01733376e-01, -6.61557978e-01,\n",
       "        -6.58512627e-01, -1.01506572e+00, -1.25393450e+00,\n",
       "        -1.48196441e+00, -1.53519654e+00, -1.28521960e+00,\n",
       "         1.06563902e-01,  3.96731021e-03, -1.05149230e-01,\n",
       "        -2.17188112e-01, -2.99164004e-01, -3.73830682e-01,\n",
       "        -3.09287687e-01, -2.22142266e-01, -1.49487785e-01,\n",
       "        -3.20068143e-01, -3.54740237e-01, -3.85148911e-01,\n",
       "        -4.30635690e-01, -5.09879599e-01, -6.18300027e-01,\n",
       "        -8.47163010e-01, -1.13575077e+00, -1.28150676e+00,\n",
       "        -1.57830697e+00, -1.06048666e+00, -9.75331657e-01,\n",
       "        -8.38172501e-01, -8.91098104e-01, -1.10759836e+00,\n",
       "        -1.21747936e+00, -1.30077861e+00, -1.36373750e+00,\n",
       "        -7.45467375e-01,  2.95993883e-02, -4.60058748e-02,\n",
       "        -1.32908786e-01, -2.26865692e-01, -3.03638010e-01,\n",
       "        -3.03435459e-01, -2.78219306e-01, -1.92208261e-01,\n",
       "        -1.08567857e-01, -2.33656014e-01, -2.67980184e-01,\n",
       "        -3.40617330e-01, -3.64846364e-01, -4.34217194e-01,\n",
       "        -5.63447216e-01, -7.10794405e-01, -1.01530432e+00,\n",
       "        -7.95625292e-01, -1.06947507e+00, -1.08073177e+00,\n",
       "        -1.10760092e+00, -1.12774628e+00, -1.08891347e+00,\n",
       "        -1.26112929e+00, -1.19914249e+00, -1.19472100e+00,\n",
       "        -1.27863457e+00, -4.02189783e-01, -1.98568136e-02,\n",
       "        -7.07755508e-02, -1.76457962e-01, -2.55151950e-01,\n",
       "        -2.87443158e-01, -2.82320844e-01, -2.26482646e-01,\n",
       "        -1.20095944e-01, -3.81007010e-02, -1.50624568e-01,\n",
       "        -1.92565404e-01, -2.36572831e-01, -2.81137093e-01,\n",
       "        -3.91267328e-01, -4.43364601e-01, -5.34469309e-01,\n",
       "        -9.04644821e-01, -7.88268435e-01, -8.41359948e-01,\n",
       "        -1.22544265e+00, -1.42654075e+00, -1.30366507e+00,\n",
       "        -1.32997360e+00, -1.24567214e+00, -1.10524690e+00,\n",
       "        -1.10848471e+00, -1.12279819e+00, -3.61205674e-01,\n",
       "        -7.57362712e-02, -1.36729699e-01, -1.61659726e-01,\n",
       "        -2.54294122e-01, -2.86058290e-01, -2.55381735e-01,\n",
       "        -1.59286301e-01, -1.01244389e-01, -8.41377868e-03,\n",
       "        -1.08952515e-01, -1.14511729e-01, -1.51181768e-01,\n",
       "        -2.15197205e-01, -2.80692719e-01, -3.62896688e-01,\n",
       "        -3.34168276e-01, -9.27333870e-01, -9.51090947e-01,\n",
       "        -9.29977683e-01, -1.14360419e+00, -1.22898632e+00,\n",
       "        -1.22406167e+00, -1.28256881e+00, -1.15278683e+00,\n",
       "        -9.56942895e-01, -9.04057615e-01, -9.80374104e-01,\n",
       "        -5.80316237e-01, -8.94787176e-02, -1.25243363e-01,\n",
       "        -1.99223153e-01, -1.92494935e-01, -2.65119173e-01,\n",
       "        -2.23892975e-01, -1.28199863e-01, -5.08508564e-02,\n",
       "        -5.31835380e-03]])"
      ]
     },
     "execution_count": 258,
     "metadata": {},
     "output_type": "execute_result"
    }
   ],
   "source": [
    "test"
   ]
  },
  {
   "cell_type": "code",
   "execution_count": null,
   "metadata": {},
   "outputs": [],
   "source": []
  }
 ],
 "metadata": {
  "kernelspec": {
   "display_name": "Python 3",
   "language": "python",
   "name": "python3"
  },
  "language_info": {
   "codemirror_mode": {
    "name": "ipython",
    "version": 3
   },
   "file_extension": ".py",
   "mimetype": "text/x-python",
   "name": "python",
   "nbconvert_exporter": "python",
   "pygments_lexer": "ipython3",
   "version": "3.6.4"
  }
 },
 "nbformat": 4,
 "nbformat_minor": 2
}
